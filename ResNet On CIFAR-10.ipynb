{
 "cells": [
  {
   "cell_type": "markdown",
   "metadata": {},
   "source": [
    "\n",
    "# Applying Resnet18 on CIFAR10 Dataset."
   ]
  },
  {
   "cell_type": "markdown",
   "metadata": {},
   "source": [
    "## Importing the required libraries"
   ]
  },
  {
   "cell_type": "code",
   "execution_count": 24,
   "metadata": {},
   "outputs": [],
   "source": [
    "from __future__ import print_function\n",
    "import tensorflow as tf\n",
    "import keras\n",
    "from keras.layers import Dense, Conv2D, BatchNormalization, Activation\n",
    "from keras.layers import AveragePooling2D, Input, Flatten\n",
    "from keras.optimizers import Adam\n",
    "from keras.callbacks import ModelCheckpoint, LearningRateScheduler\n",
    "from keras.callbacks import ReduceLROnPlateau\n",
    "from keras.preprocessing.image import ImageDataGenerator\n",
    "from keras.regularizers import l2\n",
    "from keras import backend as K\n",
    "from keras.models import Model\n",
    "from keras.datasets import cifar10\n",
    "import numpy as np\n",
    "import os\n",
    "from math import ceil\n"
   ]
  },
  {
   "cell_type": "code",
   "execution_count": 25,
   "metadata": {},
   "outputs": [
    {
     "name": "stdout",
     "output_type": "stream",
     "text": [
      "[name: \"/device:CPU:0\"\n",
      "device_type: \"CPU\"\n",
      "memory_limit: 268435456\n",
      "locality {\n",
      "}\n",
      "incarnation: 4723405776582647182\n",
      ", name: \"/device:GPU:0\"\n",
      "device_type: \"GPU\"\n",
      "memory_limit: 4840685568\n",
      "locality {\n",
      "  bus_id: 1\n",
      "  links {\n",
      "  }\n",
      "}\n",
      "incarnation: 14506692693563554614\n",
      "physical_device_desc: \"device: 0, name: GeForce RTX 2060, pci bus id: 0000:01:00.0, compute capability: 7.5\"\n",
      "]\n"
     ]
    }
   ],
   "source": [
    "# checking if the gpu is connected or not\n",
    "from tensorflow.python.client import device_lib\n",
    "print(device_lib.list_local_devices())"
   ]
  },
  {
   "cell_type": "code",
   "execution_count": 26,
   "metadata": {},
   "outputs": [],
   "source": [
    "# Training parameters\n",
    "batch_size = 32  # orig paper trained all networks with batch_size=128\n",
    "epochs = 50\n",
    "data_augmentation = True\n",
    "num_classes = 10\n",
    "\n",
    "# Subtracting pixel mean improves accuracy\n",
    "subtract_pixel_mean = True"
   ]
  },
  {
   "cell_type": "code",
   "execution_count": 27,
   "metadata": {},
   "outputs": [
    {
     "name": "stdout",
     "output_type": "stream",
     "text": [
      "Model we are using is of type ResNet20v1\n"
     ]
    }
   ],
   "source": [
    "n = 3\n",
    "version = 1\n",
    "depth = n * 6 + 2\n",
    "model_type = 'ResNet%dv%d' % (depth, version)\n",
    "print(\"Model we are using is of type\",model_type)"
   ]
  },
  {
   "cell_type": "code",
   "execution_count": 28,
   "metadata": {},
   "outputs": [],
   "source": [
    "# Load the CIFAR10 data.\n",
    "(x_train, y_train), (x_test, y_test) = cifar10.load_data()"
   ]
  },
  {
   "cell_type": "code",
   "execution_count": 29,
   "metadata": {},
   "outputs": [
    {
     "data": {
      "text/plain": [
       "(32, 32, 3)"
      ]
     },
     "execution_count": 29,
     "metadata": {},
     "output_type": "execute_result"
    }
   ],
   "source": [
    "# Input image dimensions.\n",
    "input_shape = x_train.shape[1:]\n",
    "input_shape"
   ]
  },
  {
   "cell_type": "code",
   "execution_count": 30,
   "metadata": {},
   "outputs": [],
   "source": [
    "# Normalize data.\n",
    "x_train = x_train.astype('float32') / 255\n",
    "x_test = x_test.astype('float32') / 255"
   ]
  },
  {
   "cell_type": "code",
   "execution_count": 31,
   "metadata": {},
   "outputs": [],
   "source": [
    "# If subtract pixel mean is enabled\n",
    "if subtract_pixel_mean:\n",
    "    x_train_mean = np.mean(x_train, axis=0)\n",
    "    x_train -= x_train_mean\n",
    "    x_test -= x_train_mean"
   ]
  },
  {
   "cell_type": "code",
   "execution_count": 32,
   "metadata": {},
   "outputs": [
    {
     "name": "stdout",
     "output_type": "stream",
     "text": [
      "x_train shape: (50000, 32, 32, 3)\n",
      "50000 train samples\n",
      "10000 test samples\n",
      "y_train shape: (50000, 1)\n"
     ]
    }
   ],
   "source": [
    "print('x_train shape:', x_train.shape)\n",
    "print(x_train.shape[0], 'train samples')\n",
    "print(x_test.shape[0], 'test samples')\n",
    "print('y_train shape:', y_train.shape)"
   ]
  },
  {
   "cell_type": "code",
   "execution_count": 33,
   "metadata": {},
   "outputs": [],
   "source": [
    "# Convert class vectors to binary class matrices.\n",
    "y_train = keras.utils.to_categorical(y_train, num_classes)\n",
    "y_test = keras.utils.to_categorical(y_test, num_classes)"
   ]
  },
  {
   "cell_type": "code",
   "execution_count": 34,
   "metadata": {},
   "outputs": [],
   "source": [
    "# we will decrease our learning rate as the number of epochs increases \n",
    "\n",
    "def lr_schedule(epoch):\n",
    "    \"\"\"Learning Rate Schedule\n",
    "\n",
    "    Learning rate is scheduled to be reduced after 80, 120, 160, 180 epochs.\n",
    "    Called automatically every epoch as part of callbacks during training.\n",
    "\n",
    "    # Arguments\n",
    "        epoch (int): The number of epochs\n",
    "\n",
    "    # Returns\n",
    "        lr (float32): learning rate\n",
    "    \"\"\"\n",
    "    lr = 1e-3\n",
    "    if epoch > 40:\n",
    "        lr *= 0.5e-3\n",
    "    elif epoch > 30:\n",
    "        lr *= 1e-3\n",
    "    elif epoch > 25:\n",
    "        lr *= 1e-2\n",
    "    elif epoch > 20:\n",
    "        lr *= 1e-1\n",
    "    print('Learning rate: ', lr)\n",
    "    return lr"
   ]
  },
  {
   "cell_type": "code",
   "execution_count": 35,
   "metadata": {},
   "outputs": [],
   "source": [
    "def resnet_layer(inputs,\n",
    "                 num_filters=16,\n",
    "                 kernel_size=3,\n",
    "                 strides=1,\n",
    "                 activation='relu',\n",
    "                 batch_normalization=True,\n",
    "                 conv_first=True):\n",
    "    \"\"\"2D Convolution-Batch Normalization-Activation stack builder\n",
    "\n",
    "    # Arguments\n",
    "        inputs (tensor): input tensor from input image or previous layer\n",
    "        num_filters (int): Conv2D number of filters\n",
    "        kernel_size (int): Conv2D square kernel dimensions\n",
    "        strides (int): Conv2D square stride dimensions\n",
    "        activation (string): activation name\n",
    "        batch_normalization (bool): whether to include batch normalization\n",
    "        conv_first (bool): conv-bn-activation (True) or\n",
    "            bn-activation-conv (False)\n",
    "\n",
    "    # Returns\n",
    "        x (tensor): tensor as input to the next layer\n",
    "    \"\"\"\n",
    "    conv = Conv2D(num_filters,\n",
    "                  kernel_size=kernel_size,\n",
    "                  strides=strides,\n",
    "                  padding='same',\n",
    "                  kernel_initializer='he_normal',\n",
    "                  kernel_regularizer=l2(1e-4))\n",
    "\n",
    "    x = inputs\n",
    "    if conv_first:\n",
    "        x = conv(x)\n",
    "        if batch_normalization:\n",
    "            x = BatchNormalization()(x)\n",
    "        if activation is not None:\n",
    "            x = Activation(activation)(x)\n",
    "    else:\n",
    "        if batch_normalization:\n",
    "            x = BatchNormalization()(x)\n",
    "        if activation is not None:\n",
    "            x = Activation(activation)(x)\n",
    "        x = conv(x)\n",
    "    return x"
   ]
  },
  {
   "cell_type": "code",
   "execution_count": 36,
   "metadata": {},
   "outputs": [],
   "source": [
    "def resnet_v1(input_shape, depth, num_classes=10):\n",
    "    \"\"\"ResNet Version 1 Model builder [a]\n",
    "\n",
    "    Stacks of 2 x (3 x 3) Conv2D-BN-ReLU\n",
    "    Last ReLU is after the shortcut connection.\n",
    "    At the beginning of each stage, the feature map size is halved (downsampled)\n",
    "    by a convolutional layer with strides=2, while the number of filters is\n",
    "    doubled. Within each stage, the layers have the same number filters and the\n",
    "    same number of filters.\n",
    "    Features maps sizes:\n",
    "    stage 0: 32x32, 16\n",
    "    stage 1: 16x16, 32\n",
    "    stage 2:  8x8,  64\n",
    "    The Number of parameters is approx the same as Table 6 of [a]:\n",
    "    ResNet20 0.27M\n",
    "    ResNet32 0.46M\n",
    "    ResNet44 0.66M\n",
    "    ResNet56 0.85M\n",
    "    ResNet110 1.7M\n",
    "\n",
    "    # Arguments\n",
    "        input_shape (tensor): shape of input image tensor\n",
    "        depth (int): number of core convolutional layers\n",
    "        num_classes (int): number of classes (CIFAR10 has 10)\n",
    "\n",
    "    # Returns\n",
    "        model (Model): Keras model instance\n",
    "    \"\"\"\n",
    "    if (depth - 2) % 6 != 0:\n",
    "        raise ValueError('depth should be 6n+2 (eg 20, 32, 44 in [a])')\n",
    "    # Start model definition.\n",
    "    num_filters = 16\n",
    "    num_res_blocks = int((depth - 2) / 6)\n",
    "\n",
    "    inputs = Input(shape=input_shape)\n",
    "    x = resnet_layer(inputs=inputs)\n",
    "    # Instantiate the stack of residual units\n",
    "    for stack in range(3):\n",
    "        for res_block in range(num_res_blocks):\n",
    "            strides = 1\n",
    "            if stack > 0 and res_block == 0:  # first layer but not first stack\n",
    "                strides = 2  # downsample\n",
    "            y = resnet_layer(inputs=x,\n",
    "                             num_filters=num_filters,\n",
    "                             strides=strides)\n",
    "            y = resnet_layer(inputs=y,\n",
    "                             num_filters=num_filters,\n",
    "                             activation=None)\n",
    "            if stack > 0 and res_block == 0:  # first layer but not first stack\n",
    "                # linear projection residual shortcut connection to match\n",
    "                # changed dims\n",
    "                x = resnet_layer(inputs=x,\n",
    "                                 num_filters=num_filters,\n",
    "                                 kernel_size=1,\n",
    "                                 strides=strides,\n",
    "                                 activation=None,\n",
    "                                 batch_normalization=False)\n",
    "            x = keras.layers.add([x, y])\n",
    "            x = Activation('relu')(x)\n",
    "        num_filters *= 2\n",
    "\n",
    "    # Add classifier on top.\n",
    "    # v1 does not use BN after last shortcut connection-ReLU\n",
    "    x = AveragePooling2D(pool_size=8)(x)\n",
    "    y = Flatten()(x)\n",
    "    outputs = Dense(num_classes,\n",
    "                    activation='softmax',\n",
    "                    kernel_initializer='he_normal')(y)\n",
    "\n",
    "    # Instantiate model.\n",
    "    model = Model(inputs=inputs, outputs=outputs)\n",
    "    return model"
   ]
  },
  {
   "cell_type": "code",
   "execution_count": 37,
   "metadata": {},
   "outputs": [],
   "source": [
    "model = resnet_v1(input_shape=input_shape, depth=depth)"
   ]
  },
  {
   "cell_type": "code",
   "execution_count": 38,
   "metadata": {},
   "outputs": [
    {
     "name": "stdout",
     "output_type": "stream",
     "text": [
      "Learning rate:  0.001\n"
     ]
    }
   ],
   "source": [
    "model.compile(loss='categorical_crossentropy',\n",
    "              optimizer=Adam(lr=lr_schedule(0)),\n",
    "              metrics=['accuracy'])"
   ]
  },
  {
   "cell_type": "code",
   "execution_count": 39,
   "metadata": {},
   "outputs": [
    {
     "name": "stdout",
     "output_type": "stream",
     "text": [
      "__________________________________________________________________________________________________\n",
      "Layer (type)                    Output Shape         Param #     Connected to                     \n",
      "==================================================================================================\n",
      "input_2 (InputLayer)            (None, 32, 32, 3)    0                                            \n",
      "__________________________________________________________________________________________________\n",
      "conv2d_22 (Conv2D)              (None, 32, 32, 16)   448         input_2[0][0]                    \n",
      "__________________________________________________________________________________________________\n",
      "batch_normalization_20 (BatchNo (None, 32, 32, 16)   64          conv2d_22[0][0]                  \n",
      "__________________________________________________________________________________________________\n",
      "activation_20 (Activation)      (None, 32, 32, 16)   0           batch_normalization_20[0][0]     \n",
      "__________________________________________________________________________________________________\n",
      "conv2d_23 (Conv2D)              (None, 32, 32, 16)   2320        activation_20[0][0]              \n",
      "__________________________________________________________________________________________________\n",
      "batch_normalization_21 (BatchNo (None, 32, 32, 16)   64          conv2d_23[0][0]                  \n",
      "__________________________________________________________________________________________________\n",
      "activation_21 (Activation)      (None, 32, 32, 16)   0           batch_normalization_21[0][0]     \n",
      "__________________________________________________________________________________________________\n",
      "conv2d_24 (Conv2D)              (None, 32, 32, 16)   2320        activation_21[0][0]              \n",
      "__________________________________________________________________________________________________\n",
      "batch_normalization_22 (BatchNo (None, 32, 32, 16)   64          conv2d_24[0][0]                  \n",
      "__________________________________________________________________________________________________\n",
      "add_10 (Add)                    (None, 32, 32, 16)   0           activation_20[0][0]              \n",
      "                                                                 batch_normalization_22[0][0]     \n",
      "__________________________________________________________________________________________________\n",
      "activation_22 (Activation)      (None, 32, 32, 16)   0           add_10[0][0]                     \n",
      "__________________________________________________________________________________________________\n",
      "conv2d_25 (Conv2D)              (None, 32, 32, 16)   2320        activation_22[0][0]              \n",
      "__________________________________________________________________________________________________\n",
      "batch_normalization_23 (BatchNo (None, 32, 32, 16)   64          conv2d_25[0][0]                  \n",
      "__________________________________________________________________________________________________\n",
      "activation_23 (Activation)      (None, 32, 32, 16)   0           batch_normalization_23[0][0]     \n",
      "__________________________________________________________________________________________________\n",
      "conv2d_26 (Conv2D)              (None, 32, 32, 16)   2320        activation_23[0][0]              \n",
      "__________________________________________________________________________________________________\n",
      "batch_normalization_24 (BatchNo (None, 32, 32, 16)   64          conv2d_26[0][0]                  \n",
      "__________________________________________________________________________________________________\n",
      "add_11 (Add)                    (None, 32, 32, 16)   0           activation_22[0][0]              \n",
      "                                                                 batch_normalization_24[0][0]     \n",
      "__________________________________________________________________________________________________\n",
      "activation_24 (Activation)      (None, 32, 32, 16)   0           add_11[0][0]                     \n",
      "__________________________________________________________________________________________________\n",
      "conv2d_27 (Conv2D)              (None, 32, 32, 16)   2320        activation_24[0][0]              \n",
      "__________________________________________________________________________________________________\n",
      "batch_normalization_25 (BatchNo (None, 32, 32, 16)   64          conv2d_27[0][0]                  \n",
      "__________________________________________________________________________________________________\n",
      "activation_25 (Activation)      (None, 32, 32, 16)   0           batch_normalization_25[0][0]     \n",
      "__________________________________________________________________________________________________\n",
      "conv2d_28 (Conv2D)              (None, 32, 32, 16)   2320        activation_25[0][0]              \n",
      "__________________________________________________________________________________________________\n",
      "batch_normalization_26 (BatchNo (None, 32, 32, 16)   64          conv2d_28[0][0]                  \n",
      "__________________________________________________________________________________________________\n",
      "add_12 (Add)                    (None, 32, 32, 16)   0           activation_24[0][0]              \n",
      "                                                                 batch_normalization_26[0][0]     \n",
      "__________________________________________________________________________________________________\n",
      "activation_26 (Activation)      (None, 32, 32, 16)   0           add_12[0][0]                     \n",
      "__________________________________________________________________________________________________\n",
      "conv2d_29 (Conv2D)              (None, 16, 16, 32)   4640        activation_26[0][0]              \n",
      "__________________________________________________________________________________________________\n",
      "batch_normalization_27 (BatchNo (None, 16, 16, 32)   128         conv2d_29[0][0]                  \n",
      "__________________________________________________________________________________________________\n",
      "activation_27 (Activation)      (None, 16, 16, 32)   0           batch_normalization_27[0][0]     \n",
      "__________________________________________________________________________________________________\n",
      "conv2d_30 (Conv2D)              (None, 16, 16, 32)   9248        activation_27[0][0]              \n",
      "__________________________________________________________________________________________________\n",
      "conv2d_31 (Conv2D)              (None, 16, 16, 32)   544         activation_26[0][0]              \n",
      "__________________________________________________________________________________________________\n",
      "batch_normalization_28 (BatchNo (None, 16, 16, 32)   128         conv2d_30[0][0]                  \n",
      "__________________________________________________________________________________________________\n",
      "add_13 (Add)                    (None, 16, 16, 32)   0           conv2d_31[0][0]                  \n",
      "                                                                 batch_normalization_28[0][0]     \n",
      "__________________________________________________________________________________________________\n",
      "activation_28 (Activation)      (None, 16, 16, 32)   0           add_13[0][0]                     \n",
      "__________________________________________________________________________________________________\n",
      "conv2d_32 (Conv2D)              (None, 16, 16, 32)   9248        activation_28[0][0]              \n",
      "__________________________________________________________________________________________________\n",
      "batch_normalization_29 (BatchNo (None, 16, 16, 32)   128         conv2d_32[0][0]                  \n",
      "__________________________________________________________________________________________________\n",
      "activation_29 (Activation)      (None, 16, 16, 32)   0           batch_normalization_29[0][0]     \n",
      "__________________________________________________________________________________________________\n",
      "conv2d_33 (Conv2D)              (None, 16, 16, 32)   9248        activation_29[0][0]              \n",
      "__________________________________________________________________________________________________\n",
      "batch_normalization_30 (BatchNo (None, 16, 16, 32)   128         conv2d_33[0][0]                  \n",
      "__________________________________________________________________________________________________\n",
      "add_14 (Add)                    (None, 16, 16, 32)   0           activation_28[0][0]              \n",
      "                                                                 batch_normalization_30[0][0]     \n",
      "__________________________________________________________________________________________________\n",
      "activation_30 (Activation)      (None, 16, 16, 32)   0           add_14[0][0]                     \n",
      "__________________________________________________________________________________________________\n",
      "conv2d_34 (Conv2D)              (None, 16, 16, 32)   9248        activation_30[0][0]              \n",
      "__________________________________________________________________________________________________\n",
      "batch_normalization_31 (BatchNo (None, 16, 16, 32)   128         conv2d_34[0][0]                  \n",
      "__________________________________________________________________________________________________\n",
      "activation_31 (Activation)      (None, 16, 16, 32)   0           batch_normalization_31[0][0]     \n",
      "__________________________________________________________________________________________________\n",
      "conv2d_35 (Conv2D)              (None, 16, 16, 32)   9248        activation_31[0][0]              \n",
      "__________________________________________________________________________________________________\n",
      "batch_normalization_32 (BatchNo (None, 16, 16, 32)   128         conv2d_35[0][0]                  \n",
      "__________________________________________________________________________________________________\n",
      "add_15 (Add)                    (None, 16, 16, 32)   0           activation_30[0][0]              \n",
      "                                                                 batch_normalization_32[0][0]     \n",
      "__________________________________________________________________________________________________\n",
      "activation_32 (Activation)      (None, 16, 16, 32)   0           add_15[0][0]                     \n",
      "__________________________________________________________________________________________________\n",
      "conv2d_36 (Conv2D)              (None, 8, 8, 64)     18496       activation_32[0][0]              \n",
      "__________________________________________________________________________________________________\n",
      "batch_normalization_33 (BatchNo (None, 8, 8, 64)     256         conv2d_36[0][0]                  \n",
      "__________________________________________________________________________________________________\n",
      "activation_33 (Activation)      (None, 8, 8, 64)     0           batch_normalization_33[0][0]     \n",
      "__________________________________________________________________________________________________\n",
      "conv2d_37 (Conv2D)              (None, 8, 8, 64)     36928       activation_33[0][0]              \n",
      "__________________________________________________________________________________________________\n",
      "conv2d_38 (Conv2D)              (None, 8, 8, 64)     2112        activation_32[0][0]              \n",
      "__________________________________________________________________________________________________\n",
      "batch_normalization_34 (BatchNo (None, 8, 8, 64)     256         conv2d_37[0][0]                  \n",
      "__________________________________________________________________________________________________\n",
      "add_16 (Add)                    (None, 8, 8, 64)     0           conv2d_38[0][0]                  \n",
      "                                                                 batch_normalization_34[0][0]     \n",
      "__________________________________________________________________________________________________\n",
      "activation_34 (Activation)      (None, 8, 8, 64)     0           add_16[0][0]                     \n",
      "__________________________________________________________________________________________________\n",
      "conv2d_39 (Conv2D)              (None, 8, 8, 64)     36928       activation_34[0][0]              \n",
      "__________________________________________________________________________________________________\n",
      "batch_normalization_35 (BatchNo (None, 8, 8, 64)     256         conv2d_39[0][0]                  \n",
      "__________________________________________________________________________________________________\n",
      "activation_35 (Activation)      (None, 8, 8, 64)     0           batch_normalization_35[0][0]     \n",
      "__________________________________________________________________________________________________\n",
      "conv2d_40 (Conv2D)              (None, 8, 8, 64)     36928       activation_35[0][0]              \n",
      "__________________________________________________________________________________________________\n",
      "batch_normalization_36 (BatchNo (None, 8, 8, 64)     256         conv2d_40[0][0]                  \n",
      "__________________________________________________________________________________________________\n",
      "add_17 (Add)                    (None, 8, 8, 64)     0           activation_34[0][0]              \n",
      "                                                                 batch_normalization_36[0][0]     \n",
      "__________________________________________________________________________________________________\n",
      "activation_36 (Activation)      (None, 8, 8, 64)     0           add_17[0][0]                     \n",
      "__________________________________________________________________________________________________\n",
      "conv2d_41 (Conv2D)              (None, 8, 8, 64)     36928       activation_36[0][0]              \n",
      "__________________________________________________________________________________________________\n",
      "batch_normalization_37 (BatchNo (None, 8, 8, 64)     256         conv2d_41[0][0]                  \n",
      "__________________________________________________________________________________________________\n",
      "activation_37 (Activation)      (None, 8, 8, 64)     0           batch_normalization_37[0][0]     \n",
      "__________________________________________________________________________________________________\n",
      "conv2d_42 (Conv2D)              (None, 8, 8, 64)     36928       activation_37[0][0]              \n",
      "__________________________________________________________________________________________________\n",
      "batch_normalization_38 (BatchNo (None, 8, 8, 64)     256         conv2d_42[0][0]                  \n",
      "__________________________________________________________________________________________________\n",
      "add_18 (Add)                    (None, 8, 8, 64)     0           activation_36[0][0]              \n",
      "                                                                 batch_normalization_38[0][0]     \n",
      "__________________________________________________________________________________________________\n",
      "activation_38 (Activation)      (None, 8, 8, 64)     0           add_18[0][0]                     \n",
      "__________________________________________________________________________________________________\n",
      "average_pooling2d_2 (AveragePoo (None, 1, 1, 64)     0           activation_38[0][0]              \n",
      "__________________________________________________________________________________________________\n",
      "flatten_2 (Flatten)             (None, 64)           0           average_pooling2d_2[0][0]        \n",
      "__________________________________________________________________________________________________\n",
      "dense_2 (Dense)                 (None, 10)           650         flatten_2[0][0]                  \n",
      "==================================================================================================\n",
      "Total params: 274,442\n",
      "Trainable params: 273,066\n",
      "Non-trainable params: 1,376\n",
      "__________________________________________________________________________________________________\n",
      "ResNet20v1\n"
     ]
    }
   ],
   "source": [
    "model.summary()\n",
    "print(model_type)"
   ]
  },
  {
   "cell_type": "code",
   "execution_count": 40,
   "metadata": {},
   "outputs": [],
   "source": [
    "# Prepare model model saving directory.\n",
    "save_dir = os.path.join(os.getcwd(), 'saved_models')\n",
    "model_name = 'cifar10_%s_model.{epoch:03d}.h5' % model_type\n",
    "if not os.path.isdir(save_dir):\n",
    "    os.makedirs(save_dir)\n",
    "filepath = os.path.join(save_dir, model_name)"
   ]
  },
  {
   "cell_type": "code",
   "execution_count": 41,
   "metadata": {},
   "outputs": [],
   "source": [
    "# Prepare callbacks for model saving and for learning rate adjustment.\n",
    "checkpoint = ModelCheckpoint(filepath=filepath,\n",
    "                             monitor='val_acc',\n",
    "                             verbose=1,\n",
    "                             save_best_only=True)\n",
    "\n",
    "lr_scheduler = LearningRateScheduler(lr_schedule)\n",
    "\n",
    "lr_reducer = ReduceLROnPlateau(factor=np.sqrt(0.1),\n",
    "                               cooldown=0,\n",
    "                               patience=5,\n",
    "                               min_lr=0.5e-6)\n",
    "\n",
    "callbacks = [checkpoint, lr_reducer, lr_scheduler]"
   ]
  },
  {
   "cell_type": "markdown",
   "metadata": {},
   "source": [
    "## Now we will try to use Cutout and Random Eraser in our data\n",
    "### Refer --> https://github.com/yu4u/cutout-random-erasing/blob/master/random_eraser.py"
   ]
  },
  {
   "cell_type": "code",
   "execution_count": 42,
   "metadata": {},
   "outputs": [],
   "source": [
    "import numpy as np\n",
    "\n",
    "\n",
    "def get_random_eraser(p=0.5, s_l=0.02, s_h=0.4, r_1=0.3, r_2=1/0.3, v_l=0, v_h=255, pixel_level=False):\n",
    "    def eraser(input_img):\n",
    "        img_h, img_w, img_c = input_img.shape\n",
    "        p_1 = np.random.rand()\n",
    "\n",
    "        if p_1 > p:\n",
    "            return input_img\n",
    "\n",
    "        while True:\n",
    "            s = np.random.uniform(s_l, s_h) * img_h * img_w\n",
    "            r = np.random.uniform(r_1, r_2)\n",
    "            w = int(np.sqrt(s / r))\n",
    "            h = int(np.sqrt(s * r))\n",
    "            left = np.random.randint(0, img_w)\n",
    "            top = np.random.randint(0, img_h)\n",
    "\n",
    "            if left + w <= img_w and top + h <= img_h:\n",
    "                break\n",
    "\n",
    "        if pixel_level:\n",
    "            c = np.random.uniform(v_l, v_h, (h, w, img_c))\n",
    "        else:\n",
    "            c = np.random.uniform(v_l, v_h)\n",
    "\n",
    "        input_img[top:top + h, left:left + w, :] = c\n",
    "\n",
    "        return input_img\n",
    "\n",
    "    return eraser"
   ]
  },
  {
   "cell_type": "code",
   "execution_count": 43,
   "metadata": {},
   "outputs": [
    {
     "name": "stdout",
     "output_type": "stream",
     "text": [
      "Using real-time data augmentation.\n"
     ]
    }
   ],
   "source": [
    "print('Using real-time data augmentation.')\n",
    "# This will do preprocessing and realtime data augmentation:\n",
    "datagen = ImageDataGenerator(\n",
    "# set input mean to 0 over the dataset\n",
    "featurewise_center=False,\n",
    "# set each sample mean to 0\n",
    "samplewise_center=False,\n",
    "# divide inputs by std of dataset\n",
    "featurewise_std_normalization=False,\n",
    "# divide each input by its std\n",
    "samplewise_std_normalization=False,\n",
    "        # apply ZCA whitening\n",
    "zca_whitening=False,\n",
    "        # epsilon for ZCA whitening\n",
    "zca_epsilon=1e-06,\n",
    "        # randomly rotate images in the range (deg 0 to 180)\n",
    "rotation_range=0,\n",
    "        # randomly shift images horizontally\n",
    "width_shift_range=0.1,\n",
    "        # randomly shift images vertically\n",
    "height_shift_range=0.1,\n",
    "        # set range for random shear\n",
    "shear_range=0.,\n",
    "        # set range for random zoom\n",
    "zoom_range=0.,\n",
    "        # set range for random channel shifts\n",
    "channel_shift_range=0.,\n",
    "        # set mode for filling points outside the input boundaries\n",
    "fill_mode='nearest',\n",
    "        # value used for fill_mode = \"constant\"\n",
    "cval=0.,\n",
    "        # randomly flip images\n",
    "horizontal_flip=True,\n",
    "        # randomly flip images\n",
    "vertical_flip=False,\n",
    "        # set rescaling factor (applied before any other transformation)\n",
    "rescale=None,\n",
    "        # set function that will be applied on each input\n",
    "preprocessing_function=get_random_eraser(v_l=0, v_h=1),\n",
    "        # image data format, either \"channels_first\" or \"channels_last\"\n",
    "data_format=None,\n",
    "        # fraction of images reserved for validation (strictly between 0 and 1)\n",
    "validation_split=0.0)"
   ]
  },
  {
   "cell_type": "code",
   "execution_count": 44,
   "metadata": {},
   "outputs": [],
   "source": [
    "# Compute quantities required for featurewise normalization\n",
    "    # (std, mean, and principal components if ZCA whitening is applied).\n",
    "datagen.fit(x_train)"
   ]
  },
  {
   "cell_type": "code",
   "execution_count": 77,
   "metadata": {},
   "outputs": [
    {
     "name": "stdout",
     "output_type": "stream",
     "text": [
      "Epoch 1/50\n",
      "Learning rate:  0.001\n",
      "1563/1563 [==============================] - 39s 25ms/step - loss: 1.6801 - acc: 0.4472 - val_loss: 1.7122 - val_acc: 0.4850\n",
      "\n",
      "Epoch 00001: val_acc improved from -inf to 0.48500, saving model to C:\\Users\\RASHU TYAGI\\EIP 4 Phase 1\\Session 4\\saved_models\\cifar10_ResNet20v1_model.001.h5\n",
      "Epoch 2/50\n",
      "Learning rate:  0.001\n",
      "1563/1563 [==============================] - 33s 21ms/step - loss: 1.3323 - acc: 0.5808 - val_loss: 1.2364 - val_acc: 0.6239\n",
      "\n",
      "Epoch 00002: val_acc improved from 0.48500 to 0.62390, saving model to C:\\Users\\RASHU TYAGI\\EIP 4 Phase 1\\Session 4\\saved_models\\cifar10_ResNet20v1_model.002.h5\n",
      "Epoch 3/50\n",
      "Learning rate:  0.001\n",
      "1563/1563 [==============================] - 33s 21ms/step - loss: 1.1610 - acc: 0.6483 - val_loss: 1.0790 - val_acc: 0.6773\n",
      "\n",
      "Epoch 00003: val_acc improved from 0.62390 to 0.67730, saving model to C:\\Users\\RASHU TYAGI\\EIP 4 Phase 1\\Session 4\\saved_models\\cifar10_ResNet20v1_model.003.h5\n",
      "Epoch 4/50\n",
      "Learning rate:  0.001\n",
      "1563/1563 [==============================] - 33s 21ms/step - loss: 1.0660 - acc: 0.6844 - val_loss: 1.1193 - val_acc: 0.6902\n",
      "\n",
      "Epoch 00004: val_acc improved from 0.67730 to 0.69020, saving model to C:\\Users\\RASHU TYAGI\\EIP 4 Phase 1\\Session 4\\saved_models\\cifar10_ResNet20v1_model.004.h5\n",
      "Epoch 5/50\n",
      "Learning rate:  0.001\n",
      "1563/1563 [==============================] - 33s 21ms/step - loss: 1.0001 - acc: 0.7076 - val_loss: 1.0037 - val_acc: 0.7184\n",
      "\n",
      "Epoch 00005: val_acc improved from 0.69020 to 0.71840, saving model to C:\\Users\\RASHU TYAGI\\EIP 4 Phase 1\\Session 4\\saved_models\\cifar10_ResNet20v1_model.005.h5\n",
      "Epoch 6/50\n",
      "Learning rate:  0.001\n",
      "1563/1563 [==============================] - 33s 21ms/step - loss: 0.9493 - acc: 0.7297 - val_loss: 1.0671 - val_acc: 0.7037\n",
      "\n",
      "Epoch 00006: val_acc did not improve from 0.71840\n",
      "Epoch 7/50\n",
      "Learning rate:  0.001\n",
      "1563/1563 [==============================] - 33s 21ms/step - loss: 0.9108 - acc: 0.7437 - val_loss: 0.9611 - val_acc: 0.7335\n",
      "\n",
      "Epoch 00007: val_acc improved from 0.71840 to 0.73350, saving model to C:\\Users\\RASHU TYAGI\\EIP 4 Phase 1\\Session 4\\saved_models\\cifar10_ResNet20v1_model.007.h5\n",
      "Epoch 8/50\n",
      "Learning rate:  0.001\n",
      "1563/1563 [==============================] - 33s 21ms/step - loss: 0.8845 - acc: 0.7555 - val_loss: 0.8782 - val_acc: 0.7671\n",
      "\n",
      "Epoch 00008: val_acc improved from 0.73350 to 0.76710, saving model to C:\\Users\\RASHU TYAGI\\EIP 4 Phase 1\\Session 4\\saved_models\\cifar10_ResNet20v1_model.008.h5\n",
      "Epoch 9/50\n",
      "Learning rate:  0.001\n",
      "1563/1563 [==============================] - 34s 22ms/step - loss: 0.8565 - acc: 0.7657 - val_loss: 1.1798 - val_acc: 0.6918\n",
      "\n",
      "Epoch 00009: val_acc did not improve from 0.76710\n",
      "Epoch 10/50\n",
      "Learning rate:  0.001\n",
      "1563/1563 [==============================] - 33s 21ms/step - loss: 0.8391 - acc: 0.7717 - val_loss: 0.8151 - val_acc: 0.7864\n",
      "\n",
      "Epoch 00010: val_acc improved from 0.76710 to 0.78640, saving model to C:\\Users\\RASHU TYAGI\\EIP 4 Phase 1\\Session 4\\saved_models\\cifar10_ResNet20v1_model.010.h5\n",
      "Epoch 11/50\n",
      "Learning rate:  0.001\n",
      "1563/1563 [==============================] - 33s 21ms/step - loss: 0.8219 - acc: 0.7791 - val_loss: 0.8762 - val_acc: 0.7706\n",
      "\n",
      "Epoch 00011: val_acc did not improve from 0.78640\n",
      "Epoch 12/50\n",
      "Learning rate:  0.001\n",
      "1563/1563 [==============================] - 33s 21ms/step - loss: 0.8054 - acc: 0.7852 - val_loss: 0.7952 - val_acc: 0.7961\n",
      "\n",
      "Epoch 00012: val_acc improved from 0.78640 to 0.79610, saving model to C:\\Users\\RASHU TYAGI\\EIP 4 Phase 1\\Session 4\\saved_models\\cifar10_ResNet20v1_model.012.h5\n",
      "Epoch 13/50\n",
      "Learning rate:  0.001\n",
      "1563/1563 [==============================] - 33s 21ms/step - loss: 0.7878 - acc: 0.7941 - val_loss: 0.9032 - val_acc: 0.7635\n",
      "\n",
      "Epoch 00013: val_acc did not improve from 0.79610\n",
      "Epoch 14/50\n",
      "Learning rate:  0.001\n",
      "1563/1563 [==============================] - 33s 21ms/step - loss: 0.7783 - acc: 0.7968 - val_loss: 0.9768 - val_acc: 0.7376\n",
      "\n",
      "Epoch 00014: val_acc did not improve from 0.79610\n",
      "Epoch 15/50\n",
      "Learning rate:  0.001\n",
      "1563/1563 [==============================] - 33s 21ms/step - loss: 0.7732 - acc: 0.7995 - val_loss: 0.7909 - val_acc: 0.8001\n",
      "\n",
      "Epoch 00015: val_acc improved from 0.79610 to 0.80010, saving model to C:\\Users\\RASHU TYAGI\\EIP 4 Phase 1\\Session 4\\saved_models\\cifar10_ResNet20v1_model.015.h5\n",
      "Epoch 16/50\n",
      "Learning rate:  0.001\n",
      "1563/1563 [==============================] - 90s 57ms/step - loss: 0.7619 - acc: 0.8042 - val_loss: 0.7666 - val_acc: 0.8023\n",
      "\n",
      "Epoch 00016: val_acc improved from 0.80010 to 0.80230, saving model to C:\\Users\\RASHU TYAGI\\EIP 4 Phase 1\\Session 4\\saved_models\\cifar10_ResNet20v1_model.016.h5\n",
      "Epoch 17/50\n",
      "Learning rate:  0.001\n",
      "1563/1563 [==============================] - 145s 93ms/step - loss: 0.7465 - acc: 0.8095 - val_loss: 0.7746 - val_acc: 0.8069\n",
      "\n",
      "Epoch 00017: val_acc improved from 0.80230 to 0.80690, saving model to C:\\Users\\RASHU TYAGI\\EIP 4 Phase 1\\Session 4\\saved_models\\cifar10_ResNet20v1_model.017.h5\n",
      "Epoch 18/50\n",
      "Learning rate:  0.001\n",
      "1563/1563 [==============================] - 129s 83ms/step - loss: 0.7417 - acc: 0.8120 - val_loss: 0.8159 - val_acc: 0.7982\n",
      "\n",
      "Epoch 00018: val_acc did not improve from 0.80690\n",
      "Epoch 19/50\n",
      "Learning rate:  0.001\n",
      "1563/1563 [==============================] - 127s 81ms/step - loss: 0.7336 - acc: 0.8156 - val_loss: 0.8160 - val_acc: 0.7998\n",
      "\n",
      "Epoch 00019: val_acc did not improve from 0.80690\n",
      "Epoch 20/50\n",
      "Learning rate:  0.001\n",
      "1563/1563 [==============================] - 140s 90ms/step - loss: 0.7283 - acc: 0.8154 - val_loss: 1.0570 - val_acc: 0.7433\n",
      "\n",
      "Epoch 00020: val_acc did not improve from 0.80690\n",
      "Epoch 21/50\n",
      "Learning rate:  0.001\n",
      "1563/1563 [==============================] - 140s 90ms/step - loss: 0.7220 - acc: 0.8190 - val_loss: 0.7387 - val_acc: 0.8165\n",
      "\n",
      "Epoch 00021: val_acc improved from 0.80690 to 0.81650, saving model to C:\\Users\\RASHU TYAGI\\EIP 4 Phase 1\\Session 4\\saved_models\\cifar10_ResNet20v1_model.021.h5\n",
      "Epoch 22/50\n",
      "Learning rate:  0.0001\n",
      "1563/1563 [==============================] - 141s 90ms/step - loss: 0.6256 - acc: 0.8549 - val_loss: 0.6008 - val_acc: 0.8609\n",
      "\n",
      "Epoch 00022: val_acc improved from 0.81650 to 0.86090, saving model to C:\\Users\\RASHU TYAGI\\EIP 4 Phase 1\\Session 4\\saved_models\\cifar10_ResNet20v1_model.022.h5\n",
      "Epoch 23/50\n",
      "Learning rate:  0.0001\n",
      "1563/1563 [==============================] - 140s 90ms/step - loss: 0.5811 - acc: 0.8673 - val_loss: 0.5694 - val_acc: 0.8710\n",
      "\n",
      "Epoch 00023: val_acc improved from 0.86090 to 0.87100, saving model to C:\\Users\\RASHU TYAGI\\EIP 4 Phase 1\\Session 4\\saved_models\\cifar10_ResNet20v1_model.023.h5\n",
      "Epoch 24/50\n",
      "Learning rate:  0.0001\n",
      "1563/1563 [==============================] - 139s 89ms/step - loss: 0.5608 - acc: 0.8717 - val_loss: 0.5700 - val_acc: 0.8732\n",
      "\n",
      "Epoch 00024: val_acc improved from 0.87100 to 0.87320, saving model to C:\\Users\\RASHU TYAGI\\EIP 4 Phase 1\\Session 4\\saved_models\\cifar10_ResNet20v1_model.024.h5\n",
      "Epoch 25/50\n",
      "Learning rate:  0.0001\n",
      "1563/1563 [==============================] - 139s 89ms/step - loss: 0.5555 - acc: 0.8724 - val_loss: 0.5543 - val_acc: 0.8743\n",
      "\n",
      "Epoch 00025: val_acc improved from 0.87320 to 0.87430, saving model to C:\\Users\\RASHU TYAGI\\EIP 4 Phase 1\\Session 4\\saved_models\\cifar10_ResNet20v1_model.025.h5\n",
      "Epoch 26/50\n",
      "Learning rate:  0.0001\n",
      "1563/1563 [==============================] - 141s 90ms/step - loss: 0.5425 - acc: 0.8778 - val_loss: 0.5551 - val_acc: 0.8729\n",
      "\n",
      "Epoch 00026: val_acc did not improve from 0.87430\n",
      "Epoch 27/50\n",
      "Learning rate:  1e-05\n",
      "1563/1563 [==============================] - 141s 90ms/step - loss: 0.5253 - acc: 0.8830 - val_loss: 0.5404 - val_acc: 0.8775\n",
      "\n",
      "Epoch 00027: val_acc improved from 0.87430 to 0.87750, saving model to C:\\Users\\RASHU TYAGI\\EIP 4 Phase 1\\Session 4\\saved_models\\cifar10_ResNet20v1_model.027.h5\n",
      "Epoch 28/50\n",
      "Learning rate:  1e-05\n",
      "1563/1563 [==============================] - 135s 86ms/step - loss: 0.5283 - acc: 0.8800 - val_loss: 0.5374 - val_acc: 0.8792\n",
      "\n",
      "Epoch 00028: val_acc improved from 0.87750 to 0.87920, saving model to C:\\Users\\RASHU TYAGI\\EIP 4 Phase 1\\Session 4\\saved_models\\cifar10_ResNet20v1_model.028.h5\n",
      "Epoch 29/50\n",
      "Learning rate:  1e-05\n",
      "1563/1563 [==============================] - 137s 88ms/step - loss: 0.5235 - acc: 0.8834 - val_loss: 0.5389 - val_acc: 0.8794\n",
      "\n",
      "Epoch 00029: val_acc improved from 0.87920 to 0.87940, saving model to C:\\Users\\RASHU TYAGI\\EIP 4 Phase 1\\Session 4\\saved_models\\cifar10_ResNet20v1_model.029.h5\n",
      "Epoch 30/50\n"
     ]
    },
    {
     "name": "stdout",
     "output_type": "stream",
     "text": [
      "Learning rate:  1e-05\n",
      "1563/1563 [==============================] - 137s 88ms/step - loss: 0.5225 - acc: 0.8841 - val_loss: 0.5372 - val_acc: 0.8797\n",
      "\n",
      "Epoch 00030: val_acc improved from 0.87940 to 0.87970, saving model to C:\\Users\\RASHU TYAGI\\EIP 4 Phase 1\\Session 4\\saved_models\\cifar10_ResNet20v1_model.030.h5\n",
      "Epoch 31/50\n",
      "Learning rate:  1e-05\n",
      "1563/1563 [==============================] - 137s 88ms/step - loss: 0.5189 - acc: 0.8843 - val_loss: 0.5354 - val_acc: 0.8805\n",
      "\n",
      "Epoch 00031: val_acc improved from 0.87970 to 0.88050, saving model to C:\\Users\\RASHU TYAGI\\EIP 4 Phase 1\\Session 4\\saved_models\\cifar10_ResNet20v1_model.031.h5\n",
      "Epoch 32/50\n",
      "Learning rate:  1e-06\n",
      "1563/1563 [==============================] - 137s 88ms/step - loss: 0.5191 - acc: 0.8834 - val_loss: 0.5334 - val_acc: 0.8813\n",
      "\n",
      "Epoch 00032: val_acc improved from 0.88050 to 0.88130, saving model to C:\\Users\\RASHU TYAGI\\EIP 4 Phase 1\\Session 4\\saved_models\\cifar10_ResNet20v1_model.032.h5\n",
      "Epoch 33/50\n",
      "Learning rate:  1e-06\n",
      "1563/1563 [==============================] - 137s 88ms/step - loss: 0.5160 - acc: 0.8846 - val_loss: 0.5377 - val_acc: 0.8806\n",
      "\n",
      "Epoch 00033: val_acc did not improve from 0.88130\n",
      "Epoch 34/50\n",
      "Learning rate:  1e-06\n",
      "1563/1563 [==============================] - 137s 88ms/step - loss: 0.5177 - acc: 0.8831 - val_loss: 0.5325 - val_acc: 0.8817\n",
      "\n",
      "Epoch 00034: val_acc improved from 0.88130 to 0.88170, saving model to C:\\Users\\RASHU TYAGI\\EIP 4 Phase 1\\Session 4\\saved_models\\cifar10_ResNet20v1_model.034.h5\n",
      "Epoch 35/50\n",
      "Learning rate:  1e-06\n",
      "1563/1563 [==============================] - 136s 87ms/step - loss: 0.5176 - acc: 0.8847 - val_loss: 0.5340 - val_acc: 0.8816\n",
      "\n",
      "Epoch 00035: val_acc did not improve from 0.88170\n",
      "Epoch 36/50\n",
      "Learning rate:  1e-06\n",
      "1563/1563 [==============================] - 137s 88ms/step - loss: 0.5181 - acc: 0.8831 - val_loss: 0.5332 - val_acc: 0.8817\n",
      "\n",
      "Epoch 00036: val_acc did not improve from 0.88170\n",
      "Epoch 37/50\n",
      "Learning rate:  1e-06\n",
      "1563/1563 [==============================] - 137s 88ms/step - loss: 0.5150 - acc: 0.8844 - val_loss: 0.5358 - val_acc: 0.8816\n",
      "\n",
      "Epoch 00037: val_acc did not improve from 0.88170\n",
      "Epoch 38/50\n",
      "Learning rate:  1e-06\n",
      "1563/1563 [==============================] - 139s 89ms/step - loss: 0.5149 - acc: 0.8858 - val_loss: 0.5348 - val_acc: 0.8805\n",
      "\n",
      "Epoch 00038: val_acc did not improve from 0.88170\n",
      "Epoch 39/50\n",
      "Learning rate:  1e-06\n",
      "1563/1563 [==============================] - 139s 89ms/step - loss: 0.5174 - acc: 0.8837 - val_loss: 0.5328 - val_acc: 0.8815\n",
      "\n",
      "Epoch 00039: val_acc did not improve from 0.88170\n",
      "Epoch 40/50\n",
      "Learning rate:  1e-06\n",
      "1563/1563 [==============================] - 138s 88ms/step - loss: 0.5156 - acc: 0.8835 - val_loss: 0.5314 - val_acc: 0.8829\n",
      "\n",
      "Epoch 00040: val_acc improved from 0.88170 to 0.88290, saving model to C:\\Users\\RASHU TYAGI\\EIP 4 Phase 1\\Session 4\\saved_models\\cifar10_ResNet20v1_model.040.h5\n",
      "Epoch 41/50\n",
      "Learning rate:  1e-06\n",
      "1563/1563 [==============================] - 138s 88ms/step - loss: 0.5186 - acc: 0.8833 - val_loss: 0.5321 - val_acc: 0.8818\n",
      "\n",
      "Epoch 00041: val_acc did not improve from 0.88290\n",
      "Epoch 42/50\n",
      "Learning rate:  5e-07\n",
      "1563/1563 [==============================] - 138s 88ms/step - loss: 0.5186 - acc: 0.8841 - val_loss: 0.5315 - val_acc: 0.8817\n",
      "\n",
      "Epoch 00042: val_acc did not improve from 0.88290\n",
      "Epoch 43/50\n",
      "Learning rate:  5e-07\n",
      "1563/1563 [==============================] - 138s 88ms/step - loss: 0.5142 - acc: 0.8841 - val_loss: 0.5328 - val_acc: 0.8819\n",
      "\n",
      "Epoch 00043: val_acc did not improve from 0.88290\n",
      "Epoch 44/50\n",
      "Learning rate:  5e-07\n",
      "1563/1563 [==============================] - 134s 86ms/step - loss: 0.5174 - acc: 0.8834 - val_loss: 0.5324 - val_acc: 0.8815\n",
      "\n",
      "Epoch 00044: val_acc did not improve from 0.88290\n",
      "Epoch 45/50\n",
      "Learning rate:  5e-07\n",
      "1563/1563 [==============================] - 127s 81ms/step - loss: 0.5137 - acc: 0.8833 - val_loss: 0.5327 - val_acc: 0.8810\n",
      "\n",
      "Epoch 00045: val_acc did not improve from 0.88290\n",
      "Epoch 46/50\n",
      "Learning rate:  5e-07\n",
      "1563/1563 [==============================] - 132s 85ms/step - loss: 0.5150 - acc: 0.8852 - val_loss: 0.5335 - val_acc: 0.8811\n",
      "\n",
      "Epoch 00046: val_acc did not improve from 0.88290\n",
      "Epoch 47/50\n",
      "Learning rate:  5e-07\n",
      "1563/1563 [==============================] - 137s 87ms/step - loss: 0.5159 - acc: 0.8835 - val_loss: 0.5321 - val_acc: 0.8818\n",
      "\n",
      "Epoch 00047: val_acc did not improve from 0.88290\n",
      "Epoch 48/50\n",
      "Learning rate:  5e-07\n",
      "1563/1563 [==============================] - 138s 88ms/step - loss: 0.5190 - acc: 0.8838 - val_loss: 0.5354 - val_acc: 0.8810\n",
      "\n",
      "Epoch 00048: val_acc did not improve from 0.88290\n",
      "Epoch 49/50\n",
      "Learning rate:  5e-07\n",
      "1563/1563 [==============================] - 139s 89ms/step - loss: 0.5164 - acc: 0.8849 - val_loss: 0.5323 - val_acc: 0.8814\n",
      "\n",
      "Epoch 00049: val_acc did not improve from 0.88290\n",
      "Epoch 50/50\n",
      "Learning rate:  5e-07\n",
      "1563/1563 [==============================] - 138s 88ms/step - loss: 0.5129 - acc: 0.8853 - val_loss: 0.5324 - val_acc: 0.8811\n",
      "\n",
      "Epoch 00050: val_acc did not improve from 0.88290\n"
     ]
    },
    {
     "data": {
      "text/plain": [
       "<keras.callbacks.History at 0x20e983b9780>"
      ]
     },
     "execution_count": 77,
     "metadata": {},
     "output_type": "execute_result"
    }
   ],
   "source": [
    "# Fit the model on the batches generated by datagen.flow().\n",
    "model.fit_generator(datagen.flow(x_train, y_train, batch_size=batch_size),\n",
    "validation_data=(x_test, y_test),epochs=epochs, verbose=1, workers=4,callbacks=callbacks,steps_per_epoch=ceil(x_train.shape[0] / batch_size))"
   ]
  },
  {
   "cell_type": "code",
   "execution_count": 45,
   "metadata": {},
   "outputs": [
    {
     "name": "stdout",
     "output_type": "stream",
     "text": [
      "__________________________________________________________________________________________________\n",
      "Layer (type)                    Output Shape         Param #     Connected to                     \n",
      "==================================================================================================\n",
      "input_3 (InputLayer)            (None, 32, 32, 3)    0                                            \n",
      "__________________________________________________________________________________________________\n",
      "conv2d_43 (Conv2D)              (None, 32, 32, 16)   448         input_3[0][0]                    \n",
      "__________________________________________________________________________________________________\n",
      "batch_normalization_39 (BatchNo (None, 32, 32, 16)   64          conv2d_43[0][0]                  \n",
      "__________________________________________________________________________________________________\n",
      "activation_39 (Activation)      (None, 32, 32, 16)   0           batch_normalization_39[0][0]     \n",
      "__________________________________________________________________________________________________\n",
      "conv2d_44 (Conv2D)              (None, 32, 32, 16)   2320        activation_39[0][0]              \n",
      "__________________________________________________________________________________________________\n",
      "batch_normalization_40 (BatchNo (None, 32, 32, 16)   64          conv2d_44[0][0]                  \n",
      "__________________________________________________________________________________________________\n",
      "activation_40 (Activation)      (None, 32, 32, 16)   0           batch_normalization_40[0][0]     \n",
      "__________________________________________________________________________________________________\n",
      "conv2d_45 (Conv2D)              (None, 32, 32, 16)   2320        activation_40[0][0]              \n",
      "__________________________________________________________________________________________________\n",
      "batch_normalization_41 (BatchNo (None, 32, 32, 16)   64          conv2d_45[0][0]                  \n",
      "__________________________________________________________________________________________________\n",
      "add_19 (Add)                    (None, 32, 32, 16)   0           activation_39[0][0]              \n",
      "                                                                 batch_normalization_41[0][0]     \n",
      "__________________________________________________________________________________________________\n",
      "activation_41 (Activation)      (None, 32, 32, 16)   0           add_19[0][0]                     \n",
      "__________________________________________________________________________________________________\n",
      "conv2d_46 (Conv2D)              (None, 32, 32, 16)   2320        activation_41[0][0]              \n",
      "__________________________________________________________________________________________________\n",
      "batch_normalization_42 (BatchNo (None, 32, 32, 16)   64          conv2d_46[0][0]                  \n",
      "__________________________________________________________________________________________________\n",
      "activation_42 (Activation)      (None, 32, 32, 16)   0           batch_normalization_42[0][0]     \n",
      "__________________________________________________________________________________________________\n",
      "conv2d_47 (Conv2D)              (None, 32, 32, 16)   2320        activation_42[0][0]              \n",
      "__________________________________________________________________________________________________\n",
      "batch_normalization_43 (BatchNo (None, 32, 32, 16)   64          conv2d_47[0][0]                  \n",
      "__________________________________________________________________________________________________\n",
      "add_20 (Add)                    (None, 32, 32, 16)   0           activation_41[0][0]              \n",
      "                                                                 batch_normalization_43[0][0]     \n",
      "__________________________________________________________________________________________________\n",
      "activation_43 (Activation)      (None, 32, 32, 16)   0           add_20[0][0]                     \n",
      "__________________________________________________________________________________________________\n",
      "conv2d_48 (Conv2D)              (None, 32, 32, 16)   2320        activation_43[0][0]              \n",
      "__________________________________________________________________________________________________\n",
      "batch_normalization_44 (BatchNo (None, 32, 32, 16)   64          conv2d_48[0][0]                  \n",
      "__________________________________________________________________________________________________\n",
      "activation_44 (Activation)      (None, 32, 32, 16)   0           batch_normalization_44[0][0]     \n",
      "__________________________________________________________________________________________________\n",
      "conv2d_49 (Conv2D)              (None, 32, 32, 16)   2320        activation_44[0][0]              \n",
      "__________________________________________________________________________________________________\n",
      "batch_normalization_45 (BatchNo (None, 32, 32, 16)   64          conv2d_49[0][0]                  \n",
      "__________________________________________________________________________________________________\n",
      "add_21 (Add)                    (None, 32, 32, 16)   0           activation_43[0][0]              \n",
      "                                                                 batch_normalization_45[0][0]     \n",
      "__________________________________________________________________________________________________\n",
      "activation_45 (Activation)      (None, 32, 32, 16)   0           add_21[0][0]                     \n",
      "__________________________________________________________________________________________________\n",
      "conv2d_50 (Conv2D)              (None, 16, 16, 32)   4640        activation_45[0][0]              \n",
      "__________________________________________________________________________________________________\n",
      "batch_normalization_46 (BatchNo (None, 16, 16, 32)   128         conv2d_50[0][0]                  \n",
      "__________________________________________________________________________________________________\n",
      "activation_46 (Activation)      (None, 16, 16, 32)   0           batch_normalization_46[0][0]     \n",
      "__________________________________________________________________________________________________\n",
      "conv2d_51 (Conv2D)              (None, 16, 16, 32)   9248        activation_46[0][0]              \n",
      "__________________________________________________________________________________________________\n",
      "conv2d_52 (Conv2D)              (None, 16, 16, 32)   544         activation_45[0][0]              \n",
      "__________________________________________________________________________________________________\n",
      "batch_normalization_47 (BatchNo (None, 16, 16, 32)   128         conv2d_51[0][0]                  \n",
      "__________________________________________________________________________________________________\n",
      "add_22 (Add)                    (None, 16, 16, 32)   0           conv2d_52[0][0]                  \n",
      "                                                                 batch_normalization_47[0][0]     \n",
      "__________________________________________________________________________________________________\n",
      "activation_47 (Activation)      (None, 16, 16, 32)   0           add_22[0][0]                     \n",
      "__________________________________________________________________________________________________\n",
      "conv2d_53 (Conv2D)              (None, 16, 16, 32)   9248        activation_47[0][0]              \n",
      "__________________________________________________________________________________________________\n",
      "batch_normalization_48 (BatchNo (None, 16, 16, 32)   128         conv2d_53[0][0]                  \n",
      "__________________________________________________________________________________________________\n",
      "activation_48 (Activation)      (None, 16, 16, 32)   0           batch_normalization_48[0][0]     \n",
      "__________________________________________________________________________________________________\n",
      "conv2d_54 (Conv2D)              (None, 16, 16, 32)   9248        activation_48[0][0]              \n",
      "__________________________________________________________________________________________________\n",
      "batch_normalization_49 (BatchNo (None, 16, 16, 32)   128         conv2d_54[0][0]                  \n",
      "__________________________________________________________________________________________________\n",
      "add_23 (Add)                    (None, 16, 16, 32)   0           activation_47[0][0]              \n",
      "                                                                 batch_normalization_49[0][0]     \n",
      "__________________________________________________________________________________________________\n",
      "activation_49 (Activation)      (None, 16, 16, 32)   0           add_23[0][0]                     \n",
      "__________________________________________________________________________________________________\n",
      "conv2d_55 (Conv2D)              (None, 16, 16, 32)   9248        activation_49[0][0]              \n",
      "__________________________________________________________________________________________________\n",
      "batch_normalization_50 (BatchNo (None, 16, 16, 32)   128         conv2d_55[0][0]                  \n",
      "__________________________________________________________________________________________________\n",
      "activation_50 (Activation)      (None, 16, 16, 32)   0           batch_normalization_50[0][0]     \n",
      "__________________________________________________________________________________________________\n",
      "conv2d_56 (Conv2D)              (None, 16, 16, 32)   9248        activation_50[0][0]              \n",
      "__________________________________________________________________________________________________\n",
      "batch_normalization_51 (BatchNo (None, 16, 16, 32)   128         conv2d_56[0][0]                  \n",
      "__________________________________________________________________________________________________\n",
      "add_24 (Add)                    (None, 16, 16, 32)   0           activation_49[0][0]              \n",
      "                                                                 batch_normalization_51[0][0]     \n",
      "__________________________________________________________________________________________________\n",
      "activation_51 (Activation)      (None, 16, 16, 32)   0           add_24[0][0]                     \n",
      "__________________________________________________________________________________________________\n",
      "conv2d_57 (Conv2D)              (None, 8, 8, 64)     18496       activation_51[0][0]              \n",
      "__________________________________________________________________________________________________\n",
      "batch_normalization_52 (BatchNo (None, 8, 8, 64)     256         conv2d_57[0][0]                  \n",
      "__________________________________________________________________________________________________\n",
      "activation_52 (Activation)      (None, 8, 8, 64)     0           batch_normalization_52[0][0]     \n",
      "__________________________________________________________________________________________________\n",
      "conv2d_58 (Conv2D)              (None, 8, 8, 64)     36928       activation_52[0][0]              \n",
      "__________________________________________________________________________________________________\n",
      "conv2d_59 (Conv2D)              (None, 8, 8, 64)     2112        activation_51[0][0]              \n",
      "__________________________________________________________________________________________________\n",
      "batch_normalization_53 (BatchNo (None, 8, 8, 64)     256         conv2d_58[0][0]                  \n",
      "__________________________________________________________________________________________________\n",
      "add_25 (Add)                    (None, 8, 8, 64)     0           conv2d_59[0][0]                  \n",
      "                                                                 batch_normalization_53[0][0]     \n",
      "__________________________________________________________________________________________________\n",
      "activation_53 (Activation)      (None, 8, 8, 64)     0           add_25[0][0]                     \n",
      "__________________________________________________________________________________________________\n",
      "conv2d_60 (Conv2D)              (None, 8, 8, 64)     36928       activation_53[0][0]              \n",
      "__________________________________________________________________________________________________\n",
      "batch_normalization_54 (BatchNo (None, 8, 8, 64)     256         conv2d_60[0][0]                  \n",
      "__________________________________________________________________________________________________\n",
      "activation_54 (Activation)      (None, 8, 8, 64)     0           batch_normalization_54[0][0]     \n",
      "__________________________________________________________________________________________________\n",
      "conv2d_61 (Conv2D)              (None, 8, 8, 64)     36928       activation_54[0][0]              \n",
      "__________________________________________________________________________________________________\n",
      "batch_normalization_55 (BatchNo (None, 8, 8, 64)     256         conv2d_61[0][0]                  \n",
      "__________________________________________________________________________________________________\n",
      "add_26 (Add)                    (None, 8, 8, 64)     0           activation_53[0][0]              \n",
      "                                                                 batch_normalization_55[0][0]     \n",
      "__________________________________________________________________________________________________\n",
      "activation_55 (Activation)      (None, 8, 8, 64)     0           add_26[0][0]                     \n",
      "__________________________________________________________________________________________________\n",
      "conv2d_62 (Conv2D)              (None, 8, 8, 64)     36928       activation_55[0][0]              \n",
      "__________________________________________________________________________________________________\n",
      "batch_normalization_56 (BatchNo (None, 8, 8, 64)     256         conv2d_62[0][0]                  \n",
      "__________________________________________________________________________________________________\n",
      "activation_56 (Activation)      (None, 8, 8, 64)     0           batch_normalization_56[0][0]     \n",
      "__________________________________________________________________________________________________\n",
      "conv2d_63 (Conv2D)              (None, 8, 8, 64)     36928       activation_56[0][0]              \n",
      "__________________________________________________________________________________________________\n",
      "batch_normalization_57 (BatchNo (None, 8, 8, 64)     256         conv2d_63[0][0]                  \n",
      "__________________________________________________________________________________________________\n",
      "add_27 (Add)                    (None, 8, 8, 64)     0           activation_55[0][0]              \n",
      "                                                                 batch_normalization_57[0][0]     \n",
      "__________________________________________________________________________________________________\n",
      "activation_57 (Activation)      (None, 8, 8, 64)     0           add_27[0][0]                     \n",
      "__________________________________________________________________________________________________\n",
      "average_pooling2d_3 (AveragePoo (None, 1, 1, 64)     0           activation_57[0][0]              \n",
      "__________________________________________________________________________________________________\n",
      "flatten_3 (Flatten)             (None, 64)           0           average_pooling2d_3[0][0]        \n",
      "__________________________________________________________________________________________________\n",
      "dense_3 (Dense)                 (None, 10)           650         flatten_3[0][0]                  \n",
      "==================================================================================================\n",
      "Total params: 274,442\n",
      "Trainable params: 273,066\n",
      "Non-trainable params: 1,376\n",
      "__________________________________________________________________________________________________\n"
     ]
    }
   ],
   "source": [
    "# load and evaluate a saved model because we have already trained our model\n",
    "from numpy import loadtxt\n",
    "from keras.models import load_model\n",
    " \n",
    "# load model\n",
    "model = load_model('saved_models/cifar10_ResNet20v1_model.040.h5')\n",
    "# summarize model.\n",
    "model.summary()"
   ]
  },
  {
   "cell_type": "code",
   "execution_count": null,
   "metadata": {},
   "outputs": [],
   "source": []
  },
  {
   "cell_type": "code",
   "execution_count": null,
   "metadata": {},
   "outputs": [],
   "source": []
  },
  {
   "cell_type": "code",
   "execution_count": null,
   "metadata": {},
   "outputs": [],
   "source": [
    "# Normalize data.\n",
    "x_train = x_train.astype('float32') / 255\n",
    "x_test = x_test.astype('float32') / 255"
   ]
  },
  {
   "cell_type": "markdown",
   "metadata": {},
   "source": [
    "## GradCAM on applying model."
   ]
  },
  {
   "cell_type": "code",
   "execution_count": 46,
   "metadata": {},
   "outputs": [
    {
     "name": "stdout",
     "output_type": "stream",
     "text": [
      "Requirement already satisfied: opencv-python in c:\\users\\rashu tyagi\\anaconda3\\lib\\site-packages (4.1.2.30)\n",
      "Requirement already satisfied: numpy>=1.14.5 in c:\\users\\rashu tyagi\\anaconda3\\lib\\site-packages (from opencv-python) (1.16.2)\n"
     ]
    }
   ],
   "source": [
    "!pip install opencv-python"
   ]
  },
  {
   "cell_type": "code",
   "execution_count": 47,
   "metadata": {},
   "outputs": [],
   "source": [
    "from keras.preprocessing import image\n",
    "import numpy as np\n",
    "import cv2\n",
    "from keras.applications.vgg16 import preprocess_input, decode_predictions"
   ]
  },
  {
   "cell_type": "code",
   "execution_count": 48,
   "metadata": {},
   "outputs": [],
   "source": [
    "from skimage import io"
   ]
  },
  {
   "cell_type": "code",
   "execution_count": 49,
   "metadata": {},
   "outputs": [
    {
     "name": "stdout",
     "output_type": "stream",
     "text": [
      "__________________________________________________________________________________________________\n",
      "Layer (type)                    Output Shape         Param #     Connected to                     \n",
      "==================================================================================================\n",
      "input_3 (InputLayer)            (None, 32, 32, 3)    0                                            \n",
      "__________________________________________________________________________________________________\n",
      "conv2d_43 (Conv2D)              (None, 32, 32, 16)   448         input_3[0][0]                    \n",
      "__________________________________________________________________________________________________\n",
      "batch_normalization_39 (BatchNo (None, 32, 32, 16)   64          conv2d_43[0][0]                  \n",
      "__________________________________________________________________________________________________\n",
      "activation_39 (Activation)      (None, 32, 32, 16)   0           batch_normalization_39[0][0]     \n",
      "__________________________________________________________________________________________________\n",
      "conv2d_44 (Conv2D)              (None, 32, 32, 16)   2320        activation_39[0][0]              \n",
      "__________________________________________________________________________________________________\n",
      "batch_normalization_40 (BatchNo (None, 32, 32, 16)   64          conv2d_44[0][0]                  \n",
      "__________________________________________________________________________________________________\n",
      "activation_40 (Activation)      (None, 32, 32, 16)   0           batch_normalization_40[0][0]     \n",
      "__________________________________________________________________________________________________\n",
      "conv2d_45 (Conv2D)              (None, 32, 32, 16)   2320        activation_40[0][0]              \n",
      "__________________________________________________________________________________________________\n",
      "batch_normalization_41 (BatchNo (None, 32, 32, 16)   64          conv2d_45[0][0]                  \n",
      "__________________________________________________________________________________________________\n",
      "add_19 (Add)                    (None, 32, 32, 16)   0           activation_39[0][0]              \n",
      "                                                                 batch_normalization_41[0][0]     \n",
      "__________________________________________________________________________________________________\n",
      "activation_41 (Activation)      (None, 32, 32, 16)   0           add_19[0][0]                     \n",
      "__________________________________________________________________________________________________\n",
      "conv2d_46 (Conv2D)              (None, 32, 32, 16)   2320        activation_41[0][0]              \n",
      "__________________________________________________________________________________________________\n",
      "batch_normalization_42 (BatchNo (None, 32, 32, 16)   64          conv2d_46[0][0]                  \n",
      "__________________________________________________________________________________________________\n",
      "activation_42 (Activation)      (None, 32, 32, 16)   0           batch_normalization_42[0][0]     \n",
      "__________________________________________________________________________________________________\n",
      "conv2d_47 (Conv2D)              (None, 32, 32, 16)   2320        activation_42[0][0]              \n",
      "__________________________________________________________________________________________________\n",
      "batch_normalization_43 (BatchNo (None, 32, 32, 16)   64          conv2d_47[0][0]                  \n",
      "__________________________________________________________________________________________________\n",
      "add_20 (Add)                    (None, 32, 32, 16)   0           activation_41[0][0]              \n",
      "                                                                 batch_normalization_43[0][0]     \n",
      "__________________________________________________________________________________________________\n",
      "activation_43 (Activation)      (None, 32, 32, 16)   0           add_20[0][0]                     \n",
      "__________________________________________________________________________________________________\n",
      "conv2d_48 (Conv2D)              (None, 32, 32, 16)   2320        activation_43[0][0]              \n",
      "__________________________________________________________________________________________________\n",
      "batch_normalization_44 (BatchNo (None, 32, 32, 16)   64          conv2d_48[0][0]                  \n",
      "__________________________________________________________________________________________________\n",
      "activation_44 (Activation)      (None, 32, 32, 16)   0           batch_normalization_44[0][0]     \n",
      "__________________________________________________________________________________________________\n",
      "conv2d_49 (Conv2D)              (None, 32, 32, 16)   2320        activation_44[0][0]              \n",
      "__________________________________________________________________________________________________\n",
      "batch_normalization_45 (BatchNo (None, 32, 32, 16)   64          conv2d_49[0][0]                  \n",
      "__________________________________________________________________________________________________\n",
      "add_21 (Add)                    (None, 32, 32, 16)   0           activation_43[0][0]              \n",
      "                                                                 batch_normalization_45[0][0]     \n",
      "__________________________________________________________________________________________________\n",
      "activation_45 (Activation)      (None, 32, 32, 16)   0           add_21[0][0]                     \n",
      "__________________________________________________________________________________________________\n",
      "conv2d_50 (Conv2D)              (None, 16, 16, 32)   4640        activation_45[0][0]              \n",
      "__________________________________________________________________________________________________\n",
      "batch_normalization_46 (BatchNo (None, 16, 16, 32)   128         conv2d_50[0][0]                  \n",
      "__________________________________________________________________________________________________\n",
      "activation_46 (Activation)      (None, 16, 16, 32)   0           batch_normalization_46[0][0]     \n",
      "__________________________________________________________________________________________________\n",
      "conv2d_51 (Conv2D)              (None, 16, 16, 32)   9248        activation_46[0][0]              \n",
      "__________________________________________________________________________________________________\n",
      "conv2d_52 (Conv2D)              (None, 16, 16, 32)   544         activation_45[0][0]              \n",
      "__________________________________________________________________________________________________\n",
      "batch_normalization_47 (BatchNo (None, 16, 16, 32)   128         conv2d_51[0][0]                  \n",
      "__________________________________________________________________________________________________\n",
      "add_22 (Add)                    (None, 16, 16, 32)   0           conv2d_52[0][0]                  \n",
      "                                                                 batch_normalization_47[0][0]     \n",
      "__________________________________________________________________________________________________\n",
      "activation_47 (Activation)      (None, 16, 16, 32)   0           add_22[0][0]                     \n",
      "__________________________________________________________________________________________________\n",
      "conv2d_53 (Conv2D)              (None, 16, 16, 32)   9248        activation_47[0][0]              \n",
      "__________________________________________________________________________________________________\n",
      "batch_normalization_48 (BatchNo (None, 16, 16, 32)   128         conv2d_53[0][0]                  \n",
      "__________________________________________________________________________________________________\n",
      "activation_48 (Activation)      (None, 16, 16, 32)   0           batch_normalization_48[0][0]     \n",
      "__________________________________________________________________________________________________\n",
      "conv2d_54 (Conv2D)              (None, 16, 16, 32)   9248        activation_48[0][0]              \n",
      "__________________________________________________________________________________________________\n",
      "batch_normalization_49 (BatchNo (None, 16, 16, 32)   128         conv2d_54[0][0]                  \n",
      "__________________________________________________________________________________________________\n",
      "add_23 (Add)                    (None, 16, 16, 32)   0           activation_47[0][0]              \n",
      "                                                                 batch_normalization_49[0][0]     \n",
      "__________________________________________________________________________________________________\n",
      "activation_49 (Activation)      (None, 16, 16, 32)   0           add_23[0][0]                     \n",
      "__________________________________________________________________________________________________\n",
      "conv2d_55 (Conv2D)              (None, 16, 16, 32)   9248        activation_49[0][0]              \n",
      "__________________________________________________________________________________________________\n",
      "batch_normalization_50 (BatchNo (None, 16, 16, 32)   128         conv2d_55[0][0]                  \n",
      "__________________________________________________________________________________________________\n",
      "activation_50 (Activation)      (None, 16, 16, 32)   0           batch_normalization_50[0][0]     \n",
      "__________________________________________________________________________________________________\n",
      "conv2d_56 (Conv2D)              (None, 16, 16, 32)   9248        activation_50[0][0]              \n",
      "__________________________________________________________________________________________________\n",
      "batch_normalization_51 (BatchNo (None, 16, 16, 32)   128         conv2d_56[0][0]                  \n",
      "__________________________________________________________________________________________________\n",
      "add_24 (Add)                    (None, 16, 16, 32)   0           activation_49[0][0]              \n",
      "                                                                 batch_normalization_51[0][0]     \n",
      "__________________________________________________________________________________________________\n",
      "activation_51 (Activation)      (None, 16, 16, 32)   0           add_24[0][0]                     \n",
      "__________________________________________________________________________________________________\n",
      "conv2d_57 (Conv2D)              (None, 8, 8, 64)     18496       activation_51[0][0]              \n",
      "__________________________________________________________________________________________________\n",
      "batch_normalization_52 (BatchNo (None, 8, 8, 64)     256         conv2d_57[0][0]                  \n",
      "__________________________________________________________________________________________________\n",
      "activation_52 (Activation)      (None, 8, 8, 64)     0           batch_normalization_52[0][0]     \n",
      "__________________________________________________________________________________________________\n",
      "conv2d_58 (Conv2D)              (None, 8, 8, 64)     36928       activation_52[0][0]              \n",
      "__________________________________________________________________________________________________\n",
      "conv2d_59 (Conv2D)              (None, 8, 8, 64)     2112        activation_51[0][0]              \n",
      "__________________________________________________________________________________________________\n",
      "batch_normalization_53 (BatchNo (None, 8, 8, 64)     256         conv2d_58[0][0]                  \n",
      "__________________________________________________________________________________________________\n",
      "add_25 (Add)                    (None, 8, 8, 64)     0           conv2d_59[0][0]                  \n",
      "                                                                 batch_normalization_53[0][0]     \n",
      "__________________________________________________________________________________________________\n",
      "activation_53 (Activation)      (None, 8, 8, 64)     0           add_25[0][0]                     \n",
      "__________________________________________________________________________________________________\n",
      "conv2d_60 (Conv2D)              (None, 8, 8, 64)     36928       activation_53[0][0]              \n",
      "__________________________________________________________________________________________________\n",
      "batch_normalization_54 (BatchNo (None, 8, 8, 64)     256         conv2d_60[0][0]                  \n",
      "__________________________________________________________________________________________________\n",
      "activation_54 (Activation)      (None, 8, 8, 64)     0           batch_normalization_54[0][0]     \n",
      "__________________________________________________________________________________________________\n",
      "conv2d_61 (Conv2D)              (None, 8, 8, 64)     36928       activation_54[0][0]              \n",
      "__________________________________________________________________________________________________\n",
      "batch_normalization_55 (BatchNo (None, 8, 8, 64)     256         conv2d_61[0][0]                  \n",
      "__________________________________________________________________________________________________\n",
      "add_26 (Add)                    (None, 8, 8, 64)     0           activation_53[0][0]              \n",
      "                                                                 batch_normalization_55[0][0]     \n",
      "__________________________________________________________________________________________________\n",
      "activation_55 (Activation)      (None, 8, 8, 64)     0           add_26[0][0]                     \n",
      "__________________________________________________________________________________________________\n",
      "conv2d_62 (Conv2D)              (None, 8, 8, 64)     36928       activation_55[0][0]              \n",
      "__________________________________________________________________________________________________\n",
      "batch_normalization_56 (BatchNo (None, 8, 8, 64)     256         conv2d_62[0][0]                  \n",
      "__________________________________________________________________________________________________\n",
      "activation_56 (Activation)      (None, 8, 8, 64)     0           batch_normalization_56[0][0]     \n",
      "__________________________________________________________________________________________________\n",
      "conv2d_63 (Conv2D)              (None, 8, 8, 64)     36928       activation_56[0][0]              \n",
      "__________________________________________________________________________________________________\n",
      "batch_normalization_57 (BatchNo (None, 8, 8, 64)     256         conv2d_63[0][0]                  \n",
      "__________________________________________________________________________________________________\n",
      "add_27 (Add)                    (None, 8, 8, 64)     0           activation_55[0][0]              \n",
      "                                                                 batch_normalization_57[0][0]     \n",
      "__________________________________________________________________________________________________\n",
      "activation_57 (Activation)      (None, 8, 8, 64)     0           add_27[0][0]                     \n",
      "__________________________________________________________________________________________________\n",
      "average_pooling2d_3 (AveragePoo (None, 1, 1, 64)     0           activation_57[0][0]              \n",
      "__________________________________________________________________________________________________\n",
      "flatten_3 (Flatten)             (None, 64)           0           average_pooling2d_3[0][0]        \n",
      "__________________________________________________________________________________________________\n",
      "dense_3 (Dense)                 (None, 10)           650         flatten_3[0][0]                  \n",
      "==================================================================================================\n",
      "Total params: 274,442\n",
      "Trainable params: 273,066\n",
      "Non-trainable params: 1,376\n",
      "__________________________________________________________________________________________________\n"
     ]
    }
   ],
   "source": [
    "model.summary()"
   ]
  },
  {
   "cell_type": "code",
   "execution_count": 98,
   "metadata": {},
   "outputs": [],
   "source": [
    "cat = io.imread(\"cat-hangover-red-cute-mackerel-tiger-sweet.jpg\")\n",
    "cat= cv2.resize(cat, dsize=(32,32), interpolation=cv2.INTER_CUBIC)\n",
    "x = image.img_to_array(cat)\n",
    "x = np.expand_dims(x, axis=0)\n",
    "\n",
    "\n",
    "\n",
    "# Normalize data.\n",
    "\n",
    "\n",
    "x = x.astype('float32') / 255\n",
    "x = x.astype('float32') / 255\n"
   ]
  },
  {
   "cell_type": "code",
   "execution_count": 99,
   "metadata": {},
   "outputs": [
    {
     "data": {
      "text/plain": [
       "array([[[[ 1.18509796e-03,  1.12604385e-03,  1.15832372e-03],\n",
       "         [ 9.08281421e-04,  8.95363337e-04,  9.27643210e-04],\n",
       "         [ 5.23813884e-04,  5.57031948e-04,  7.43098848e-04],\n",
       "         ...,\n",
       "         [-9.37162666e-04, -1.96524401e-04,  4.35524795e-04],\n",
       "         [-1.42928108e-03, -9.80838086e-04, -8.73510216e-05],\n",
       "         [-1.32163020e-03, -1.05773169e-03, -2.58362215e-05]],\n",
       "\n",
       "        [[ 6.46843459e-04,  7.41576310e-04,  8.19992332e-04],\n",
       "         [-1.04481354e-03, -6.42506697e-04, -2.25759330e-04],\n",
       "         [ 1.27737015e-03,  9.72256821e-04,  9.12264513e-04],\n",
       "         ...,\n",
       "         [-1.27549400e-03, -6.88642845e-04,  1.27950785e-04],\n",
       "         [-1.41390238e-03, -1.10386778e-03,  4.92117942e-06],\n",
       "         [-1.47541717e-03, -1.19613996e-03, -1.48865831e-04]],\n",
       "\n",
       "        [[-4.75801673e-04, -3.19554005e-04, -1.04575211e-05],\n",
       "         [ 1.53880811e-03,  1.29520951e-03,  1.11218763e-03],\n",
       "         [ 1.75410986e-03,  1.60278345e-03,  1.55816996e-03],\n",
       "         ...,\n",
       "         [-1.44465978e-03, -1.02697429e-03, -1.33487134e-04],\n",
       "         [-1.44465978e-03, -1.21151865e-03, -2.25759330e-04],\n",
       "         [-1.49079587e-03, -1.16538256e-03, -1.02729726e-04]],\n",
       "\n",
       "        ...,\n",
       "\n",
       "        [[-1.59844675e-03, -1.67287968e-03, -1.65597838e-03],\n",
       "         [ 6.31464762e-04,  9.10742034e-04,  1.05067284e-03],\n",
       "         [ 4.93056432e-04,  8.33848550e-04,  1.03529415e-03],\n",
       "         ...,\n",
       "         [-2.98193463e-05,  1.41807002e-04,  3.12495191e-04],\n",
       "         [-1.44406458e-05,  2.80215318e-04,  4.66282188e-04],\n",
       "         [-3.37393343e-04, -5.81161003e-05,  2.04844284e-04]],\n",
       "\n",
       "        [[ 1.26199145e-03,  1.23369473e-03,  1.31211069e-03],\n",
       "         [ 4.62299067e-04,  9.26120731e-04,  1.06605154e-03],\n",
       "         [ 1.39346361e-04,  7.10818917e-04,  1.03529415e-03],\n",
       "         ...,\n",
       "         [-4.51980450e-05,  1.57185699e-04,  3.89388704e-04],\n",
       "         [-1.29087281e-03, -1.08848908e-03, -1.10234530e-03],\n",
       "         [-1.50617457e-03, -1.53447129e-03, -1.45605532e-03]],\n",
       "\n",
       "        [[ 7.69873033e-04,  1.03377167e-03,  1.18908111e-03],\n",
       "         [-2.14363754e-04,  5.57031948e-04,  8.96885816e-04],\n",
       "         [ 7.54494336e-04,  1.12604385e-03,  1.46589766e-03],\n",
       "         ...,\n",
       "         [-1.47541717e-03, -1.59598608e-03, -1.59446360e-03],\n",
       "         [-1.53693196e-03, -1.50371389e-03, -1.36378314e-03],\n",
       "         [-1.39852369e-03, -1.41144171e-03, -1.10234530e-03]]]],\n",
       "      dtype=float32)"
      ]
     },
     "execution_count": 99,
     "metadata": {},
     "output_type": "execute_result"
    }
   ],
   "source": [
    "x"
   ]
  },
  {
   "cell_type": "code",
   "execution_count": 100,
   "metadata": {},
   "outputs": [
    {
     "name": "stdout",
     "output_type": "stream",
     "text": [
      "8\n"
     ]
    }
   ],
   "source": [
    "preds = model.predict(x)\n",
    "class_idx = np.argmax(preds[0])\n",
    "print(class_idx)\n",
    "class_output = model.output[:, class_idx]\n",
    "last_conv_layer = model.get_layer(\"conv2d_63\")"
   ]
  },
  {
   "cell_type": "code",
   "execution_count": 101,
   "metadata": {},
   "outputs": [
    {
     "name": "stdout",
     "output_type": "stream",
     "text": [
      "(?, 8, 8, 64)\n",
      "(64,)\n"
     ]
    }
   ],
   "source": [
    "grads = K.gradients(class_output, last_conv_layer.output)[0]\n",
    "print(grads.shape)\n",
    "pooled_grads = K.mean(grads, axis=(0, 1, 2))\n",
    "print(pooled_grads.shape)\n",
    "iterate = K.function([model.input], [pooled_grads, last_conv_layer.output[0]])\n",
    "\n",
    "pooled_grads_value, conv_layer_output_value = iterate([x])\n",
    "\n",
    "for i in range(64):\n",
    "    conv_layer_output_value[:, :, i] *= pooled_grads_value[i]"
   ]
  },
  {
   "cell_type": "code",
   "execution_count": 102,
   "metadata": {},
   "outputs": [
    {
     "name": "stdout",
     "output_type": "stream",
     "text": [
      "(8, 8, 64)\n",
      "(8, 8)\n"
     ]
    }
   ],
   "source": [
    "heatmap = np.mean(conv_layer_output_value, axis = -1)\n",
    "print(conv_layer_output_value.shape)\n",
    "print(heatmap.shape)\n",
    "heatmap = np.maximum(heatmap, 0)\n",
    "heatmap /= np.max(heatmap)"
   ]
  },
  {
   "cell_type": "code",
   "execution_count": 103,
   "metadata": {},
   "outputs": [],
   "source": [
    "import cv2\n"
   ]
  },
  {
   "cell_type": "code",
   "execution_count": 104,
   "metadata": {},
   "outputs": [],
   "source": [
    "heatmap = cv2.resize(heatmap, (cat.shape[1], cat.shape[0]))\n",
    "heatmap = np.uint8(255 * heatmap)\n",
    "heatmap = cv2.applyColorMap(heatmap, cv2.COLORMAP_JET)\n",
    "superimposed_img = cv2.addWeighted(cat, 0.5, heatmap, 0.5, 0)\n"
   ]
  },
  {
   "cell_type": "code",
   "execution_count": 105,
   "metadata": {},
   "outputs": [
    {
     "data": {
      "image/png": "[encoded data removed]",
      "text/plain": [
       "<Figure size 432x288 with 1 Axes>"
      ]
     },
     "metadata": {
      "needs_background": "light"
     },
     "output_type": "display_data"
    }
   ],
   "source": [
    "%matplotlib inline\n",
    "import matplotlib.pyplot as plt\n",
    "# load image using cv2....and do processing.\n",
    "plt.imshow(cat)\n",
    "# as opencv loads in BGR format by default, we want to show it in RGB.\n",
    "plt.show()\n",
    "\n",
    "#from patches import cv2.imshow\n",
    "#cv2.imshow('',cat)\n",
    "#cv2.imshow('',superimposed_img)"
   ]
  },
  {
   "cell_type": "code",
   "execution_count": 106,
   "metadata": {},
   "outputs": [
    {
     "data": {
      "image/png": "[encoded data removed]",
      "text/plain": [
       "<Figure size 432x288 with 1 Axes>"
      ]
     },
     "metadata": {
      "needs_background": "light"
     },
     "output_type": "display_data"
    }
   ],
   "source": [
    "plt.imshow(superimposed_img)\n",
    "# as opencv loads in BGR format by default, we want to show it in RGB.\n",
    "plt.show()"
   ]
  },
  {
   "cell_type": "code",
   "execution_count": 97,
   "metadata": {},
   "outputs": [
    {
     "name": "stdout",
     "output_type": "stream",
     "text": [
      "8\n",
      "(?, 8, 8, 64)\n",
      "(64,)\n",
      "(8, 8, 64)\n",
      "(8, 8)\n"
     ]
    },
    {
     "data": {
      "image/png": "[encoded data removed]",
      "text/plain": [
       "<Figure size 432x288 with 1 Axes>"
      ]
     },
     "metadata": {
      "needs_background": "light"
     },
     "output_type": "display_data"
    },
    {
     "data": {
      "image/png": "[encoded data removed]",
      "text/plain": [
       "<Figure size 432x288 with 1 Axes>"
      ]
     },
     "metadata": {
      "needs_background": "light"
     },
     "output_type": "display_data"
    }
   ],
   "source": [
    "cat = io.imread(\"red-german-shepherd-dog-sandy-keeton.jpg\")\n",
    "cat= cv2.resize(cat, dsize=(32,32), interpolation=cv2.INTER_CUBIC)\n",
    "x = image.img_to_array(cat)\n",
    "x = np.expand_dims(x, axis=0)\n",
    "\n",
    "# Normalize data.\n",
    "x = preprocess_input(x)\n",
    "x = x.astype('float32') / 255\n",
    "x = x.astype('float32') / 255\n",
    "\n",
    "preds = model.predict(x)\n",
    "class_idx = np.argmax(preds[0])\n",
    "print(class_idx)\n",
    "class_output = model.output[:, class_idx]\n",
    "last_conv_layer = model.get_layer(\"conv2d_63\")\n",
    "\n",
    "grads = K.gradients(class_output, last_conv_layer.output)[0]\n",
    "print(grads.shape)\n",
    "pooled_grads = K.mean(grads, axis=(0, 1, 2))\n",
    "print(pooled_grads.shape)\n",
    "iterate = K.function([model.input], [pooled_grads, last_conv_layer.output[0]])\n",
    "\n",
    "pooled_grads_value, conv_layer_output_value = iterate([x])\n",
    "\n",
    "for i in range(64):\n",
    "    conv_layer_output_value[:, :, i] *= pooled_grads_value[i]\n",
    "    \n",
    "heatmap = np.mean(conv_layer_output_value, axis = -1)\n",
    "print(conv_layer_output_value.shape)\n",
    "print(heatmap.shape)\n",
    "heatmap = np.maximum(heatmap, 0)\n",
    "heatmap /= np.max(heatmap)\n",
    "\n",
    "heatmap = cv2.resize(heatmap, (cat.shape[1], cat.shape[0]))\n",
    "heatmap = np.uint8(255 * heatmap)\n",
    "heatmap = cv2.applyColorMap(heatmap, cv2.COLORMAP_JET)\n",
    "superimposed_img = cv2.addWeighted(cat, 0.5, heatmap, 0.5, 0)\n",
    "\n",
    "%matplotlib inline\n",
    "import matplotlib.pyplot as plt\n",
    "# load image using cv2....and do processing.\n",
    "plt.imshow(cat)\n",
    "# as opencv loads in BGR format by default, we want to show it in RGB.\n",
    "plt.show()\n",
    "\n",
    "plt.imshow(superimposed_img)\n",
    "# as opencv loads in BGR format by default, we want to show it in RGB.\n",
    "plt.show()"
   ]
  },
  {
   "cell_type": "code",
   "execution_count": 92,
   "metadata": {},
   "outputs": [
    {
     "name": "stdout",
     "output_type": "stream",
     "text": [
      "8\n",
      "(?, 8, 8, 64)\n",
      "(64,)\n",
      "(8, 8, 64)\n",
      "(8, 8)\n"
     ]
    },
    {
     "data": {
      "image/png": "[encoded data removed]",
      "text/plain": [
       "<Figure size 432x288 with 1 Axes>"
      ]
     },
     "metadata": {
      "needs_background": "light"
     },
     "output_type": "display_data"
    },
    {
     "data": {
      "image/png": "[encoded data removed]",
      "text/plain": [
       "<Figure size 432x288 with 1 Axes>"
      ]
     },
     "metadata": {
      "needs_background": "light"
     },
     "output_type": "display_data"
    }
   ],
   "source": [
    "cat = io.imread(\"images.jpg\")\n",
    "cat= cv2.resize(cat, dsize=(32,32), interpolation=cv2.INTER_CUBIC)\n",
    "x = image.img_to_array(cat)\n",
    "x = np.expand_dims(x, axis=0)\n",
    "\n",
    "\n",
    "x = preprocess_input(x)\n",
    "# Normalize data.\n",
    "x = x.astype('float32') / 255\n",
    "x = x.astype('float32') / 255\n",
    "\n",
    "\n",
    "\n",
    "preds = model.predict(x)\n",
    "class_idx = np.argmax(preds[0])\n",
    "print(class_idx)\n",
    "class_output = model.output[:, class_idx]\n",
    "last_conv_layer = model.get_layer(\"conv2d_63\")\n",
    "\n",
    "grads = K.gradients(class_output, last_conv_layer.output)[0]\n",
    "print(grads.shape)\n",
    "pooled_grads = K.mean(grads, axis=(0, 1, 2))\n",
    "print(pooled_grads.shape)\n",
    "iterate = K.function([model.input], [pooled_grads, last_conv_layer.output[0]])\n",
    "\n",
    "pooled_grads_value, conv_layer_output_value = iterate([x])\n",
    "\n",
    "for i in range(64):\n",
    "    conv_layer_output_value[:, :, i] *= pooled_grads_value[i]\n",
    "    \n",
    "heatmap = np.mean(conv_layer_output_value, axis = -1)\n",
    "print(conv_layer_output_value.shape)\n",
    "print(heatmap.shape)\n",
    "heatmap = np.maximum(heatmap, 0)\n",
    "heatmap /= np.max(heatmap)\n",
    "\n",
    "heatmap = cv2.resize(heatmap, (cat.shape[1], cat.shape[0]))\n",
    "heatmap = np.uint8(255 * heatmap)\n",
    "heatmap = cv2.applyColorMap(heatmap, cv2.COLORMAP_JET)\n",
    "superimposed_img = cv2.addWeighted(cat, 0.5, heatmap, 0.5, 0)\n",
    "\n",
    "%matplotlib inline\n",
    "import matplotlib.pyplot as plt\n",
    "# load image using cv2....and do processing.\n",
    "plt.imshow(cat)\n",
    "# as opencv loads in BGR format by default, we want to show it in RGB.\n",
    "plt.show()\n",
    "\n",
    "plt.imshow(superimposed_img)\n",
    "# as opencv loads in BGR format by default, we want to show it in RGB.\n",
    "plt.show()"
   ]
  },
  {
   "cell_type": "code",
   "execution_count": 94,
   "metadata": {},
   "outputs": [
    {
     "name": "stdout",
     "output_type": "stream",
     "text": [
      "8\n",
      "(?, 8, 8, 64)\n",
      "(64,)\n",
      "(8, 8, 64)\n",
      "(8, 8)\n"
     ]
    },
    {
     "data": {
      "image/png": "[encoded data removed]",
      "text/plain": [
       "<Figure size 432x288 with 1 Axes>"
      ]
     },
     "metadata": {
      "needs_background": "light"
     },
     "output_type": "display_data"
    },
    {
     "data": {
      "image/png": "[encoded data removed]",
      "text/plain": [
       "<Figure size 432x288 with 1 Axes>"
      ]
     },
     "metadata": {
      "needs_background": "light"
     },
     "output_type": "display_data"
    }
   ],
   "source": [
    "cat = io.imread(\"puppytraining7.jpg\")\n",
    "cat= cv2.resize(cat, dsize=(32,32), interpolation=cv2.INTER_CUBIC)\n",
    "x = image.img_to_array(cat)\n",
    "x = np.expand_dims(x, axis=0)\n",
    "\n",
    "x = preprocess_input(x)\n",
    "x = x.astype('float32') / 255\n",
    "x = x.astype('float32') / 255\n",
    "\n",
    "\n",
    "preds = model.predict(x)\n",
    "class_idx = np.argmax(preds[0])\n",
    "print(class_idx)\n",
    "class_output = model.output[:, class_idx]\n",
    "last_conv_layer = model.get_layer(\"conv2d_63\")\n",
    "\n",
    "grads = K.gradients(class_output, last_conv_layer.output)[0]\n",
    "print(grads.shape)\n",
    "pooled_grads = K.mean(grads, axis=(0, 1, 2))\n",
    "print(pooled_grads.shape)\n",
    "iterate = K.function([model.input], [pooled_grads, last_conv_layer.output[0]])\n",
    "\n",
    "pooled_grads_value, conv_layer_output_value = iterate([x])\n",
    "\n",
    "for i in range(64):\n",
    "    conv_layer_output_value[:, :, i] *= pooled_grads_value[i]\n",
    "    \n",
    "heatmap = np.mean(conv_layer_output_value, axis = -1)\n",
    "print(conv_layer_output_value.shape)\n",
    "print(heatmap.shape)\n",
    "heatmap = np.maximum(heatmap, 0)\n",
    "heatmap /= np.max(heatmap)\n",
    "\n",
    "heatmap = cv2.resize(heatmap, (cat.shape[1], cat.shape[0]))\n",
    "heatmap = np.uint8(255 * heatmap)\n",
    "heatmap = cv2.applyColorMap(heatmap, cv2.COLORMAP_JET)\n",
    "superimposed_img = cv2.addWeighted(cat, 0.5, heatmap, 0.5, 0)\n",
    "\n",
    "%matplotlib inline\n",
    "import matplotlib.pyplot as plt\n",
    "# load image using cv2....and do processing.\n",
    "plt.imshow(cat)\n",
    "# as opencv loads in BGR format by default, we want to show it in RGB.\n",
    "plt.show()\n",
    "\n",
    "plt.imshow(superimposed_img)\n",
    "# as opencv loads in BGR format by default, we want to show it in RGB.\n",
    "plt.show()"
   ]
  },
  {
   "cell_type": "code",
   "execution_count": 95,
   "metadata": {},
   "outputs": [
    {
     "name": "stdout",
     "output_type": "stream",
     "text": [
      "8\n",
      "(?, 8, 8, 64)\n",
      "(64,)\n",
      "(8, 8, 64)\n",
      "(8, 8)\n"
     ]
    },
    {
     "data": {
      "image/png": "[encoded data removed]",
      "text/plain": [
       "<Figure size 432x288 with 1 Axes>"
      ]
     },
     "metadata": {
      "needs_background": "light"
     },
     "output_type": "display_data"
    },
    {
     "data": {
      "image/png": "[encoded data removed]",
      "text/plain": [
       "<Figure size 432x288 with 1 Axes>"
      ]
     },
     "metadata": {
      "needs_background": "light"
     },
     "output_type": "display_data"
    }
   ],
   "source": [
    "cat = io.imread(\"horse-edited.jpg\")\n",
    "cat= cv2.resize(cat, dsize=(32,32), interpolation=cv2.INTER_CUBIC)\n",
    "x = image.img_to_array(cat)\n",
    "x = np.expand_dims(x, axis=0)\n",
    "\n",
    "x = preprocess_input(x)\n",
    "x = x.astype('float32') / 255\n",
    "x = x.astype('float32') / 255\n",
    "\n",
    "preds = model.predict(x)\n",
    "class_idx = np.argmax(preds[0])\n",
    "print(class_idx)\n",
    "class_output = model.output[:, class_idx]\n",
    "last_conv_layer = model.get_layer(\"conv2d_63\")\n",
    "\n",
    "grads = K.gradients(class_output, last_conv_layer.output)[0]\n",
    "print(grads.shape)\n",
    "pooled_grads = K.mean(grads, axis=(0, 1, 2))\n",
    "print(pooled_grads.shape)\n",
    "iterate = K.function([model.input], [pooled_grads, last_conv_layer.output[0]])\n",
    "\n",
    "pooled_grads_value, conv_layer_output_value = iterate([x])\n",
    "\n",
    "for i in range(64):\n",
    "    conv_layer_output_value[:, :, i] *= pooled_grads_value[i]\n",
    "    \n",
    "heatmap = np.mean(conv_layer_output_value, axis = -1)\n",
    "print(conv_layer_output_value.shape)\n",
    "print(heatmap.shape)\n",
    "heatmap = np.maximum(heatmap, 0)\n",
    "heatmap /= np.max(heatmap)\n",
    "\n",
    "heatmap = cv2.resize(heatmap, (cat.shape[1], cat.shape[0]))\n",
    "heatmap = np.uint8(255 * heatmap)\n",
    "heatmap = cv2.applyColorMap(heatmap, cv2.COLORMAP_JET)\n",
    "superimposed_img = cv2.addWeighted(cat, 0.5, heatmap, 0.5, 0)\n",
    "\n",
    "%matplotlib inline\n",
    "import matplotlib.pyplot as plt\n",
    "# load image using cv2....and do processing.\n",
    "plt.imshow(cat)\n",
    "# as opencv loads in BGR format by default, we want to show it in RGB.\n",
    "plt.show()\n",
    "\n",
    "plt.imshow(superimposed_img)\n",
    "# as opencv loads in BGR format by default, we want to show it in RGB.\n",
    "plt.show()"
   ]
  },
  {
   "cell_type": "code",
   "execution_count": 96,
   "metadata": {},
   "outputs": [
    {
     "name": "stdout",
     "output_type": "stream",
     "text": [
      "8\n",
      "(?, 8, 8, 64)\n",
      "(64,)\n",
      "(8, 8, 64)\n",
      "(8, 8)\n"
     ]
    },
    {
     "data": {
      "image/png": "[encoded data removed]",
      "text/plain": [
       "<Figure size 432x288 with 1 Axes>"
      ]
     },
     "metadata": {
      "needs_background": "light"
     },
     "output_type": "display_data"
    },
    {
     "data": {
      "image/png": "[encoded data removed]",
      "text/plain": [
       "<Figure size 432x288 with 1 Axes>"
      ]
     },
     "metadata": {
      "needs_background": "light"
     },
     "output_type": "display_data"
    }
   ],
   "source": [
    "cat = io.imread(\"Truck_with_motion_blur.jpg\")\n",
    "cat= cv2.resize(cat, dsize=(32,32), interpolation=cv2.INTER_CUBIC)\n",
    "x = image.img_to_array(cat)\n",
    "x = np.expand_dims(x, axis=0)\n",
    "\n",
    "x = preprocess_input(x)\n",
    "x = x.astype('float32') / 255\n",
    "x = x.astype('float32') / 255\n",
    "\n",
    "preds = model.predict(x)\n",
    "class_idx = np.argmax(preds[0])\n",
    "print(class_idx)\n",
    "class_output = model.output[:, class_idx]\n",
    "last_conv_layer = model.get_layer(\"conv2d_63\")\n",
    "\n",
    "grads = K.gradients(class_output, last_conv_layer.output)[0]\n",
    "print(grads.shape)\n",
    "pooled_grads = K.mean(grads, axis=(0, 1, 2))\n",
    "print(pooled_grads.shape)\n",
    "iterate = K.function([model.input], [pooled_grads, last_conv_layer.output[0]])\n",
    "\n",
    "pooled_grads_value, conv_layer_output_value = iterate([x])\n",
    "\n",
    "for i in range(64):\n",
    "    conv_layer_output_value[:, :, i] *= pooled_grads_value[i]\n",
    "    \n",
    "heatmap = np.mean(conv_layer_output_value, axis = -1)\n",
    "print(conv_layer_output_value.shape)\n",
    "print(heatmap.shape)\n",
    "heatmap = np.maximum(heatmap, 0)\n",
    "heatmap /= np.max(heatmap)\n",
    "\n",
    "heatmap = cv2.resize(heatmap, (cat.shape[1], cat.shape[0]))\n",
    "heatmap = np.uint8(255 * heatmap)\n",
    "heatmap = cv2.applyColorMap(heatmap, cv2.COLORMAP_JET)\n",
    "superimposed_img = cv2.addWeighted(cat, 0.5, heatmap, 0.5, 0)\n",
    "\n",
    "%matplotlib inline\n",
    "import matplotlib.pyplot as plt\n",
    "# load image using cv2....and do processing.\n",
    "plt.imshow(cat)\n",
    "# as opencv loads in BGR format by default, we want to show it in RGB.\n",
    "plt.show()\n",
    "\n",
    "plt.imshow(superimposed_img)\n",
    "# as opencv loads in BGR format by default, we want to show it in RGB.\n",
    "plt.show()"
   ]
  },
  {
   "cell_type": "code",
   "execution_count": 107,
   "metadata": {},
   "outputs": [
    {
     "name": "stdout",
     "output_type": "stream",
     "text": [
      "8\n",
      "(?, 8, 8, 64)\n",
      "(64,)\n",
      "(8, 8, 64)\n",
      "(8, 8)\n"
     ]
    },
    {
     "data": {
      "image/png": "[encoded data removed]",
      "text/plain": [
       "<Figure size 432x288 with 1 Axes>"
      ]
     },
     "metadata": {
      "needs_background": "light"
     },
     "output_type": "display_data"
    },
    {
     "data": {
      "image/png": "[encoded data removed]",
      "text/plain": [
       "<Figure size 432x288 with 1 Axes>"
      ]
     },
     "metadata": {
      "needs_background": "light"
     },
     "output_type": "display_data"
    }
   ],
   "source": [
    "cat = io.imread(\"71OQaYbGtHL._SX355_.jpg\")\n",
    "cat= cv2.resize(cat, dsize=(32,32), interpolation=cv2.INTER_CUBIC)\n",
    "x = image.img_to_array(cat)\n",
    "x = np.expand_dims(x, axis=0)\n",
    "\n",
    "x = preprocess_input(x)\n",
    "x = x.astype('float32') / 255\n",
    "x = x.astype('float32') / 255\n",
    "\n",
    "preds = model.predict(x)\n",
    "class_idx = np.argmax(preds[0])\n",
    "print(class_idx)\n",
    "class_output = model.output[:, class_idx]\n",
    "last_conv_layer = model.get_layer(\"conv2d_63\")\n",
    "\n",
    "grads = K.gradients(class_output, last_conv_layer.output)[0]\n",
    "print(grads.shape)\n",
    "pooled_grads = K.mean(grads, axis=(0, 1, 2))\n",
    "print(pooled_grads.shape)\n",
    "iterate = K.function([model.input], [pooled_grads, last_conv_layer.output[0]])\n",
    "\n",
    "pooled_grads_value, conv_layer_output_value = iterate([x])\n",
    "\n",
    "for i in range(64):\n",
    "    conv_layer_output_value[:, :, i] *= pooled_grads_value[i]\n",
    "    \n",
    "heatmap = np.mean(conv_layer_output_value, axis = -1)\n",
    "print(conv_layer_output_value.shape)\n",
    "print(heatmap.shape)\n",
    "heatmap = np.maximum(heatmap, 0)\n",
    "heatmap /= np.max(heatmap)\n",
    "\n",
    "heatmap = cv2.resize(heatmap, (cat.shape[1], cat.shape[0]))\n",
    "heatmap = np.uint8(255 * heatmap)\n",
    "heatmap = cv2.applyColorMap(heatmap, cv2.COLORMAP_JET)\n",
    "superimposed_img = cv2.addWeighted(cat, 0.5, heatmap, 0.5, 0)\n",
    "\n",
    "%matplotlib inline\n",
    "import matplotlib.pyplot as plt\n",
    "# load image using cv2....and do processing.\n",
    "plt.imshow(cat)\n",
    "# as opencv loads in BGR format by default, we want to show it in RGB.\n",
    "plt.show()\n",
    "\n",
    "plt.imshow(superimposed_img)\n",
    "# as opencv loads in BGR format by default, we want to show it in RGB.\n",
    "plt.show()"
   ]
  },
  {
   "cell_type": "code",
   "execution_count": null,
   "metadata": {},
   "outputs": [],
   "source": [
    "flying_plane_190518"
   ]
  },
  {
   "cell_type": "code",
   "execution_count": 108,
   "metadata": {},
   "outputs": [
    {
     "name": "stdout",
     "output_type": "stream",
     "text": [
      "8\n",
      "(?, 8, 8, 64)\n",
      "(64,)\n",
      "(8, 8, 64)\n",
      "(8, 8)\n"
     ]
    },
    {
     "data": {
      "image/png": "[encoded data removed]",
      "text/plain": [
       "<Figure size 432x288 with 1 Axes>"
      ]
     },
     "metadata": {
      "needs_background": "light"
     },
     "output_type": "display_data"
    },
    {
     "data": {
      "image/png": "[encoded data removed]",
      "text/plain": [
       "<Figure size 432x288 with 1 Axes>"
      ]
     },
     "metadata": {
      "needs_background": "light"
     },
     "output_type": "display_data"
    }
   ],
   "source": [
    "cat = io.imread(\"flying_plane_190518.jpg\")\n",
    "cat= cv2.resize(cat, dsize=(32,32), interpolation=cv2.INTER_CUBIC)\n",
    "x = image.img_to_array(cat)\n",
    "x = np.expand_dims(x, axis=0)\n",
    "\n",
    "x = preprocess_input(x)\n",
    "x = x.astype('float32') / 255\n",
    "x = x.astype('float32') / 255\n",
    "\n",
    "preds = model.predict(x)\n",
    "class_idx = np.argmax(preds[0])\n",
    "print(class_idx)\n",
    "class_output = model.output[:, class_idx]\n",
    "last_conv_layer = model.get_layer(\"conv2d_63\")\n",
    "\n",
    "grads = K.gradients(class_output, last_conv_layer.output)[0]\n",
    "print(grads.shape)\n",
    "pooled_grads = K.mean(grads, axis=(0, 1, 2))\n",
    "print(pooled_grads.shape)\n",
    "iterate = K.function([model.input], [pooled_grads, last_conv_layer.output[0]])\n",
    "\n",
    "pooled_grads_value, conv_layer_output_value = iterate([x])\n",
    "\n",
    "for i in range(64):\n",
    "    conv_layer_output_value[:, :, i] *= pooled_grads_value[i]\n",
    "    \n",
    "heatmap = np.mean(conv_layer_output_value, axis = -1)\n",
    "print(conv_layer_output_value.shape)\n",
    "print(heatmap.shape)\n",
    "heatmap = np.maximum(heatmap, 0)\n",
    "heatmap /= np.max(heatmap)\n",
    "\n",
    "heatmap = cv2.resize(heatmap, (cat.shape[1], cat.shape[0]))\n",
    "heatmap = np.uint8(255 * heatmap)\n",
    "heatmap = cv2.applyColorMap(heatmap, cv2.COLORMAP_JET)\n",
    "superimposed_img = cv2.addWeighted(cat, 0.5, heatmap, 0.5, 0)\n",
    "\n",
    "%matplotlib inline\n",
    "import matplotlib.pyplot as plt\n",
    "# load image using cv2....and do processing.\n",
    "plt.imshow(cat)\n",
    "# as opencv loads in BGR format by default, we want to show it in RGB.\n",
    "plt.show()\n",
    "\n",
    "plt.imshow(superimposed_img)\n",
    "# as opencv loads in BGR format by default, we want to show it in RGB.\n",
    "plt.show()"
   ]
  },
  {
   "cell_type": "code",
   "execution_count": 109,
   "metadata": {},
   "outputs": [
    {
     "name": "stdout",
     "output_type": "stream",
     "text": [
      "8\n",
      "(?, 8, 8, 64)\n",
      "(64,)\n",
      "(8, 8, 64)\n",
      "(8, 8)\n"
     ]
    },
    {
     "data": {
      "image/png": "[encoded data removed]",
      "text/plain": [
       "<Figure size 432x288 with 1 Axes>"
      ]
     },
     "metadata": {
      "needs_background": "light"
     },
     "output_type": "display_data"
    },
    {
     "data": {
      "image/png": "[encoded data removed]",
      "text/plain": [
       "<Figure size 432x288 with 1 Axes>"
      ]
     },
     "metadata": {
      "needs_background": "light"
     },
     "output_type": "display_data"
    }
   ],
   "source": [
    "cat = io.imread(\"blue-birds.jpg.824x0_q71.jpg\")\n",
    "cat= cv2.resize(cat, dsize=(32,32), interpolation=cv2.INTER_CUBIC)\n",
    "x = image.img_to_array(cat)\n",
    "x = np.expand_dims(x, axis=0)\n",
    "\n",
    "x = preprocess_input(x)\n",
    "x = x.astype('float32') / 255\n",
    "x = x.astype('float32') / 255\n",
    "\n",
    "preds = model.predict(x)\n",
    "class_idx = np.argmax(preds[0])\n",
    "print(class_idx)\n",
    "class_output = model.output[:, class_idx]\n",
    "last_conv_layer = model.get_layer(\"conv2d_63\")\n",
    "\n",
    "grads = K.gradients(class_output, last_conv_layer.output)[0]\n",
    "print(grads.shape)\n",
    "pooled_grads = K.mean(grads, axis=(0, 1, 2))\n",
    "print(pooled_grads.shape)\n",
    "iterate = K.function([model.input], [pooled_grads, last_conv_layer.output[0]])\n",
    "\n",
    "pooled_grads_value, conv_layer_output_value = iterate([x])\n",
    "\n",
    "for i in range(64):\n",
    "    conv_layer_output_value[:, :, i] *= pooled_grads_value[i]\n",
    "    \n",
    "heatmap = np.mean(conv_layer_output_value, axis = -1)\n",
    "print(conv_layer_output_value.shape)\n",
    "print(heatmap.shape)\n",
    "heatmap = np.maximum(heatmap, 0)\n",
    "heatmap /= np.max(heatmap)\n",
    "\n",
    "heatmap = cv2.resize(heatmap, (cat.shape[1], cat.shape[0]))\n",
    "heatmap = np.uint8(255 * heatmap)\n",
    "heatmap = cv2.applyColorMap(heatmap, cv2.COLORMAP_JET)\n",
    "superimposed_img = cv2.addWeighted(cat, 0.5, heatmap, 0.5, 0)\n",
    "\n",
    "%matplotlib inline\n",
    "import matplotlib.pyplot as plt\n",
    "# load image using cv2....and do processing.\n",
    "plt.imshow(cat)\n",
    "# as opencv loads in BGR format by default, we want to show it in RGB.\n",
    "plt.show()\n",
    "\n",
    "plt.imshow(superimposed_img)\n",
    "# as opencv loads in BGR format by default, we want to show it in RGB.\n",
    "plt.show()"
   ]
  },
  {
   "cell_type": "code",
   "execution_count": 110,
   "metadata": {},
   "outputs": [
    {
     "name": "stdout",
     "output_type": "stream",
     "text": [
      "8\n",
      "(?, 8, 8, 64)\n",
      "(64,)\n",
      "(8, 8, 64)\n",
      "(8, 8)\n"
     ]
    },
    {
     "data": {
      "image/png": "[encoded data removed]",
      "text/plain": [
       "<Figure size 432x288 with 1 Axes>"
      ]
     },
     "metadata": {
      "needs_background": "light"
     },
     "output_type": "display_data"
    },
    {
     "data": {
      "image/png": "[encoded data removed]",
      "text/plain": [
       "<Figure size 432x288 with 1 Axes>"
      ]
     },
     "metadata": {
      "needs_background": "light"
     },
     "output_type": "display_data"
    }
   ],
   "source": [
    "cat = io.imread(\"download.jpg\")\n",
    "cat= cv2.resize(cat, dsize=(32,32), interpolation=cv2.INTER_CUBIC)\n",
    "x = image.img_to_array(cat)\n",
    "x = np.expand_dims(x, axis=0)\n",
    "\n",
    "x = preprocess_input(x)\n",
    "x = x.astype('float32') / 255\n",
    "x = x.astype('float32') / 255\n",
    "\n",
    "preds = model.predict(x)\n",
    "class_idx = np.argmax(preds[0])\n",
    "print(class_idx)\n",
    "class_output = model.output[:, class_idx]\n",
    "last_conv_layer = model.get_layer(\"conv2d_63\")\n",
    "\n",
    "grads = K.gradients(class_output, last_conv_layer.output)[0]\n",
    "print(grads.shape)\n",
    "pooled_grads = K.mean(grads, axis=(0, 1, 2))\n",
    "print(pooled_grads.shape)\n",
    "iterate = K.function([model.input], [pooled_grads, last_conv_layer.output[0]])\n",
    "\n",
    "pooled_grads_value, conv_layer_output_value = iterate([x])\n",
    "\n",
    "for i in range(64):\n",
    "    conv_layer_output_value[:, :, i] *= pooled_grads_value[i]\n",
    "    \n",
    "heatmap = np.mean(conv_layer_output_value, axis = -1)\n",
    "print(conv_layer_output_value.shape)\n",
    "print(heatmap.shape)\n",
    "heatmap = np.maximum(heatmap, 0)\n",
    "heatmap /= np.max(heatmap)\n",
    "\n",
    "heatmap = cv2.resize(heatmap, (cat.shape[1], cat.shape[0]))\n",
    "heatmap = np.uint8(255 * heatmap)\n",
    "heatmap = cv2.applyColorMap(heatmap, cv2.COLORMAP_JET)\n",
    "superimposed_img = cv2.addWeighted(cat, 0.5, heatmap, 0.5, 0)\n",
    "\n",
    "%matplotlib inline\n",
    "import matplotlib.pyplot as plt\n",
    "# load image using cv2....and do processing.\n",
    "plt.imshow(cat)\n",
    "# as opencv loads in BGR format by default, we want to show it in RGB.\n",
    "plt.show()\n",
    "\n",
    "plt.imshow(superimposed_img)\n",
    "# as opencv loads in BGR format by default, we want to show it in RGB.\n",
    "plt.show()"
   ]
  },
  {
   "cell_type": "code",
   "execution_count": null,
   "metadata": {},
   "outputs": [],
   "source": []
  },
  {
   "cell_type": "code",
   "execution_count": null,
   "metadata": {},
   "outputs": [],
   "source": []
  },
  {
   "cell_type": "code",
   "execution_count": null,
   "metadata": {},
   "outputs": [],
   "source": []
  },
  {
   "cell_type": "code",
   "execution_count": null,
   "metadata": {},
   "outputs": [],
   "source": []
  },
  {
   "cell_type": "code",
   "execution_count": null,
   "metadata": {},
   "outputs": [],
   "source": []
  },
  {
   "cell_type": "code",
   "execution_count": null,
   "metadata": {},
   "outputs": [],
   "source": []
  },
  {
   "cell_type": "code",
   "execution_count": null,
   "metadata": {},
   "outputs": [],
   "source": []
  },
  {
   "cell_type": "code",
   "execution_count": null,
   "metadata": {},
   "outputs": [],
   "source": []
  },
  {
   "cell_type": "code",
   "execution_count": null,
   "metadata": {},
   "outputs": [],
   "source": []
  },
  {
   "cell_type": "code",
   "execution_count": null,
   "metadata": {},
   "outputs": [],
   "source": []
  },
  {
   "cell_type": "code",
   "execution_count": null,
   "metadata": {},
   "outputs": [],
   "source": []
  },
  {
   "cell_type": "code",
   "execution_count": null,
   "metadata": {},
   "outputs": [],
   "source": []
  },
  {
   "cell_type": "code",
   "execution_count": null,
   "metadata": {},
   "outputs": [],
   "source": []
  },
  {
   "cell_type": "code",
   "execution_count": null,
   "metadata": {},
   "outputs": [],
   "source": []
  },
  {
   "cell_type": "code",
   "execution_count": null,
   "metadata": {},
   "outputs": [],
   "source": []
  }
 ],
 "metadata": {
  "kernelspec": {
   "display_name": "Python 3",
   "language": "python",
   "name": "python3"
  },
  "language_info": {
   "codemirror_mode": {
    "name": "ipython",
    "version": 3
   },
   "file_extension": ".py",
   "mimetype": "text/x-python",
   "name": "python",
   "nbconvert_exporter": "python",
   "pygments_lexer": "ipython3",
   "version": "3.7.3"
  }
 },
 "nbformat": 4,
 "nbformat_minor": 2
}
